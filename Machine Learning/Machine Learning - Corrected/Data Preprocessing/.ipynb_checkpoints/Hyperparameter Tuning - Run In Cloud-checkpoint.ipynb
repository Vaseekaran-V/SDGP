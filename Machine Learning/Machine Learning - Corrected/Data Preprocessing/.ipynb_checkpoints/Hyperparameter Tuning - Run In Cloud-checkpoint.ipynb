{
 "cells": [
  {
   "cell_type": "markdown",
   "metadata": {},
   "source": [
    "# Hyperparameter tuning"
   ]
  },
  {
   "cell_type": "markdown",
   "metadata": {},
   "source": [
    "## Importing the libraries"
   ]
  },
  {
   "cell_type": "code",
   "execution_count": 1,
   "metadata": {},
   "outputs": [],
   "source": [
    "import numpy as np\n",
    "import pandas as pd\n",
    "from sklearn import preprocessing\n",
    "from sklearn.preprocessing import StandardScaler\n",
    "from sklearn.model_selection import train_test_split\n",
    "from sklearn.metrics import accuracy_score\n",
    "from sklearn.metrics import confusion_matrix\n",
    "from sklearn.model_selection import cross_val_score\n",
    "from sklearn.model_selection import GridSearchCV\n",
    "from sklearn.model_selection import RandomizedSearchCV\n",
    "from sklearn import model_selection\n",
    "from xgboost import XGBClassifier\n",
    "from sklearn.neighbors import KNeighborsClassifier\n",
    "from sklearn.tree import DecisionTreeClassifier\n",
    "from sklearn.ensemble import GradientBoostingClassifier\n",
    "from sklearn.ensemble import RandomForestClassifier\n",
    "from sklearn.svm import SVC\n",
    "from sklearn import metrics\n",
    "from sklearn.linear_model import LogisticRegression\n",
    "from random import randint"
   ]
  },
  {
   "cell_type": "markdown",
   "metadata": {},
   "source": [
    "## Import the dataset"
   ]
  },
  {
   "cell_type": "code",
   "execution_count": 2,
   "metadata": {},
   "outputs": [
    {
     "data": {
      "text/html": [
       "<div>\n",
       "<style scoped>\n",
       "    .dataframe tbody tr th:only-of-type {\n",
       "        vertical-align: middle;\n",
       "    }\n",
       "\n",
       "    .dataframe tbody tr th {\n",
       "        vertical-align: top;\n",
       "    }\n",
       "\n",
       "    .dataframe thead th {\n",
       "        text-align: right;\n",
       "    }\n",
       "</style>\n",
       "<table border=\"1\" class=\"dataframe\">\n",
       "  <thead>\n",
       "    <tr style=\"text-align: right;\">\n",
       "      <th></th>\n",
       "      <th>Subject Id</th>\n",
       "      <th>Jitter(local)</th>\n",
       "      <th>Jitter(local, absolute)</th>\n",
       "      <th>Jitter (rap)</th>\n",
       "      <th>Jitter (ppq5)</th>\n",
       "      <th>Jitter (ddp)</th>\n",
       "      <th>Shimmer (local)</th>\n",
       "      <th>Shimmer (local, db)</th>\n",
       "      <th>Shimmer (apq3)</th>\n",
       "      <th>Shimmer (apq5)</th>\n",
       "      <th>...</th>\n",
       "      <th>Maximum pitch</th>\n",
       "      <th>Number of pulses</th>\n",
       "      <th>Number of periods</th>\n",
       "      <th>Mean period</th>\n",
       "      <th>Standard deviation of period</th>\n",
       "      <th>Fraction of locally unvoiced frames</th>\n",
       "      <th>Number of voice breaks</th>\n",
       "      <th>Degree of voice breaks</th>\n",
       "      <th>UPDRS</th>\n",
       "      <th>status</th>\n",
       "    </tr>\n",
       "  </thead>\n",
       "  <tbody>\n",
       "    <tr>\n",
       "      <th>0</th>\n",
       "      <td>1</td>\n",
       "      <td>0.01488</td>\n",
       "      <td>0.000090</td>\n",
       "      <td>0.00900</td>\n",
       "      <td>0.00794</td>\n",
       "      <td>0.02699</td>\n",
       "      <td>0.08334</td>\n",
       "      <td>0.779</td>\n",
       "      <td>0.04517</td>\n",
       "      <td>0.04609</td>\n",
       "      <td>...</td>\n",
       "      <td>187.576</td>\n",
       "      <td>160</td>\n",
       "      <td>159</td>\n",
       "      <td>0.006065</td>\n",
       "      <td>0.000416</td>\n",
       "      <td>0.00000</td>\n",
       "      <td>0</td>\n",
       "      <td>0.00000</td>\n",
       "      <td>23</td>\n",
       "      <td>1</td>\n",
       "    </tr>\n",
       "    <tr>\n",
       "      <th>1</th>\n",
       "      <td>1</td>\n",
       "      <td>0.00728</td>\n",
       "      <td>0.000038</td>\n",
       "      <td>0.00353</td>\n",
       "      <td>0.00376</td>\n",
       "      <td>0.01059</td>\n",
       "      <td>0.05864</td>\n",
       "      <td>0.642</td>\n",
       "      <td>0.02058</td>\n",
       "      <td>0.03180</td>\n",
       "      <td>...</td>\n",
       "      <td>234.505</td>\n",
       "      <td>170</td>\n",
       "      <td>169</td>\n",
       "      <td>0.005181</td>\n",
       "      <td>0.000403</td>\n",
       "      <td>0.02247</td>\n",
       "      <td>0</td>\n",
       "      <td>0.00000</td>\n",
       "      <td>23</td>\n",
       "      <td>1</td>\n",
       "    </tr>\n",
       "    <tr>\n",
       "      <th>2</th>\n",
       "      <td>1</td>\n",
       "      <td>0.01220</td>\n",
       "      <td>0.000074</td>\n",
       "      <td>0.00732</td>\n",
       "      <td>0.00670</td>\n",
       "      <td>0.02196</td>\n",
       "      <td>0.08719</td>\n",
       "      <td>0.875</td>\n",
       "      <td>0.04347</td>\n",
       "      <td>0.05166</td>\n",
       "      <td>...</td>\n",
       "      <td>211.442</td>\n",
       "      <td>1431</td>\n",
       "      <td>1427</td>\n",
       "      <td>0.006071</td>\n",
       "      <td>0.000474</td>\n",
       "      <td>0.10656</td>\n",
       "      <td>1</td>\n",
       "      <td>0.00178</td>\n",
       "      <td>23</td>\n",
       "      <td>1</td>\n",
       "    </tr>\n",
       "    <tr>\n",
       "      <th>3</th>\n",
       "      <td>2</td>\n",
       "      <td>0.00427</td>\n",
       "      <td>0.000034</td>\n",
       "      <td>0.00243</td>\n",
       "      <td>0.00249</td>\n",
       "      <td>0.00728</td>\n",
       "      <td>0.07428</td>\n",
       "      <td>0.694</td>\n",
       "      <td>0.04205</td>\n",
       "      <td>0.04311</td>\n",
       "      <td>...</td>\n",
       "      <td>129.205</td>\n",
       "      <td>345</td>\n",
       "      <td>344</td>\n",
       "      <td>0.008073</td>\n",
       "      <td>0.000143</td>\n",
       "      <td>0.00000</td>\n",
       "      <td>0</td>\n",
       "      <td>0.00000</td>\n",
       "      <td>8</td>\n",
       "      <td>1</td>\n",
       "    </tr>\n",
       "    <tr>\n",
       "      <th>4</th>\n",
       "      <td>2</td>\n",
       "      <td>0.00844</td>\n",
       "      <td>0.000069</td>\n",
       "      <td>0.00509</td>\n",
       "      <td>0.00489</td>\n",
       "      <td>0.01527</td>\n",
       "      <td>0.14053</td>\n",
       "      <td>1.239</td>\n",
       "      <td>0.06131</td>\n",
       "      <td>0.07015</td>\n",
       "      <td>...</td>\n",
       "      <td>126.788</td>\n",
       "      <td>585</td>\n",
       "      <td>582</td>\n",
       "      <td>0.008174</td>\n",
       "      <td>0.000123</td>\n",
       "      <td>0.00209</td>\n",
       "      <td>2</td>\n",
       "      <td>0.00768</td>\n",
       "      <td>8</td>\n",
       "      <td>1</td>\n",
       "    </tr>\n",
       "  </tbody>\n",
       "</table>\n",
       "<p>5 rows × 29 columns</p>\n",
       "</div>"
      ],
      "text/plain": [
       "   Subject Id  Jitter(local)  Jitter(local, absolute)  Jitter (rap)  \\\n",
       "0           1        0.01488                 0.000090       0.00900   \n",
       "1           1        0.00728                 0.000038       0.00353   \n",
       "2           1        0.01220                 0.000074       0.00732   \n",
       "3           2        0.00427                 0.000034       0.00243   \n",
       "4           2        0.00844                 0.000069       0.00509   \n",
       "\n",
       "   Jitter (ppq5)  Jitter (ddp)  Shimmer (local)  Shimmer (local, db)  \\\n",
       "0        0.00794       0.02699          0.08334                0.779   \n",
       "1        0.00376       0.01059          0.05864                0.642   \n",
       "2        0.00670       0.02196          0.08719                0.875   \n",
       "3        0.00249       0.00728          0.07428                0.694   \n",
       "4        0.00489       0.01527          0.14053                1.239   \n",
       "\n",
       "   Shimmer (apq3)  Shimmer (apq5)  ...  Maximum pitch  Number of pulses  \\\n",
       "0         0.04517         0.04609  ...        187.576               160   \n",
       "1         0.02058         0.03180  ...        234.505               170   \n",
       "2         0.04347         0.05166  ...        211.442              1431   \n",
       "3         0.04205         0.04311  ...        129.205               345   \n",
       "4         0.06131         0.07015  ...        126.788               585   \n",
       "\n",
       "   Number of periods  Mean period  Standard deviation of period  \\\n",
       "0                159     0.006065                      0.000416   \n",
       "1                169     0.005181                      0.000403   \n",
       "2               1427     0.006071                      0.000474   \n",
       "3                344     0.008073                      0.000143   \n",
       "4                582     0.008174                      0.000123   \n",
       "\n",
       "   Fraction of locally unvoiced frames  Number of voice breaks  \\\n",
       "0                              0.00000                       0   \n",
       "1                              0.02247                       0   \n",
       "2                              0.10656                       1   \n",
       "3                              0.00000                       0   \n",
       "4                              0.00209                       2   \n",
       "\n",
       "   Degree of voice breaks  UPDRS  status  \n",
       "0                 0.00000     23       1  \n",
       "1                 0.00000     23       1  \n",
       "2                 0.00178     23       1  \n",
       "3                 0.00000      8       1  \n",
       "4                 0.00768      8       1  \n",
       "\n",
       "[5 rows x 29 columns]"
      ]
     },
     "execution_count": 2,
     "metadata": {},
     "output_type": "execute_result"
    }
   ],
   "source": [
    "#data = pd.read_csv(r'..\\Datasets\\Parkinsons Processed Training - Only Vowels - Sri Lankan.csv', header = 0)\n",
    "data = pd.read_csv(r'..\\Datasets\\Sri Lankan Voice Recordings.csv', header = 0)\n",
    "data.head()"
   ]
  },
  {
   "cell_type": "code",
   "execution_count": 3,
   "metadata": {},
   "outputs": [
    {
     "data": {
      "text/plain": [
       "(120, 29)"
      ]
     },
     "execution_count": 3,
     "metadata": {},
     "output_type": "execute_result"
    }
   ],
   "source": [
    "data.shape"
   ]
  },
  {
   "cell_type": "code",
   "execution_count": 4,
   "metadata": {},
   "outputs": [
    {
     "data": {
      "text/plain": [
       "array([[1.488000e-02, 9.021300e-05, 9.000000e-03, ..., 1.590000e+02,\n",
       "        6.064725e-03, 4.162760e-04],\n",
       "       [7.280000e-03, 3.769800e-05, 3.530000e-03, ..., 1.690000e+02,\n",
       "        5.181253e-03, 4.034940e-04],\n",
       "       [1.220000e-02, 7.404100e-05, 7.320000e-03, ..., 1.427000e+03,\n",
       "        6.070749e-03, 4.742890e-04],\n",
       "       ...,\n",
       "       [4.710000e-03, 3.383700e-05, 1.860000e-03, ..., 1.750000e+02,\n",
       "        7.178780e-03, 1.298030e-04],\n",
       "       [4.319000e-02, 3.171220e-04, 2.774000e-02, ..., 2.560000e+02,\n",
       "        7.342534e-03, 3.119150e-04],\n",
       "       [1.543000e-02, 1.033570e-04, 1.004000e-02, ..., 4.250000e+02,\n",
       "        6.700038e-03, 1.082910e-04]])"
      ]
     },
     "execution_count": 4,
     "metadata": {},
     "output_type": "execute_result"
    }
   ],
   "source": [
    "X = data.iloc[:, 1:24].values\n",
    "X"
   ]
  },
  {
   "cell_type": "code",
   "execution_count": 5,
   "metadata": {},
   "outputs": [
    {
     "data": {
      "text/plain": [
       "array([1, 1, 1, 1, 1, 1, 1, 1, 1, 1, 1, 1, 1, 1, 1, 1, 1, 1, 1, 1, 1, 1,\n",
       "       1, 1, 1, 1, 1, 1, 1, 1, 1, 1, 1, 1, 1, 1, 1, 1, 1, 1, 1, 1, 1, 1,\n",
       "       1, 1, 1, 1, 1, 1, 1, 1, 1, 1, 1, 1, 1, 1, 1, 1, 0, 0, 0, 0, 0, 0,\n",
       "       0, 0, 0, 0, 0, 0, 0, 0, 0, 0, 0, 0, 0, 0, 0, 0, 0, 0, 0, 0, 0, 0,\n",
       "       0, 0, 0, 0, 0, 0, 0, 0, 0, 0, 0, 0, 0, 0, 0, 0, 0, 0, 0, 0, 0, 0,\n",
       "       0, 0, 0, 0, 0, 0, 0, 0, 0, 0], dtype=int64)"
      ]
     },
     "execution_count": 5,
     "metadata": {},
     "output_type": "execute_result"
    }
   ],
   "source": [
    "y = data.iloc[:, -1].values\n",
    "y"
   ]
  },
  {
   "cell_type": "code",
   "execution_count": 6,
   "metadata": {},
   "outputs": [
    {
     "data": {
      "text/plain": [
       "array([[ 0.87868587,  0.77094821,  1.07622998, ..., -0.64799993,\n",
       "        -0.18879174, -0.06122861],\n",
       "       [-0.20384012, -0.39022832, -0.21557662, ..., -0.61325462,\n",
       "        -0.75744717, -0.07935857],\n",
       "       [ 0.49695302,  0.41336377,  0.67947768, ...,  3.75770466,\n",
       "        -0.18491433,  0.02105691],\n",
       "       ...,\n",
       "       [-0.56990483, -0.47560017, -0.60996731, ..., -0.59240744,\n",
       "         0.52828072, -0.46756133],\n",
       "       [ 4.9110952 ,  5.78820816,  5.50190746, ..., -0.31097047,\n",
       "         0.63368259, -0.20925404],\n",
       "       [ 0.95702657,  1.06157954,  1.32183855, ...,  0.27622517,\n",
       "         0.22013372, -0.49807391]])"
      ]
     },
     "execution_count": 6,
     "metadata": {},
     "output_type": "execute_result"
    }
   ],
   "source": [
    "standard_X = StandardScaler()\n",
    "X_scaled_standard = standard_X.fit_transform(X)\n",
    "X_scaled_standard"
   ]
  },
  {
   "cell_type": "code",
   "execution_count": 7,
   "metadata": {},
   "outputs": [
    {
     "name": "stdout",
     "output_type": "stream",
     "text": [
      "[5.00000000e+00 4.97487940e+00 4.94975879e+00 4.92463819e+00\n",
      " 4.89951759e+00 4.87439698e+00 4.84927638e+00 4.82415578e+00\n",
      " 4.79903518e+00 4.77391457e+00 4.74879397e+00 4.72367337e+00\n",
      " 4.69855276e+00 4.67343216e+00 4.64831156e+00 4.62319095e+00\n",
      " 4.59807035e+00 4.57294975e+00 4.54782915e+00 4.52270854e+00\n",
      " 4.49758794e+00 4.47246734e+00 4.44734673e+00 4.42222613e+00\n",
      " 4.39710553e+00 4.37198492e+00 4.34686432e+00 4.32174372e+00\n",
      " 4.29662312e+00 4.27150251e+00 4.24638191e+00 4.22126131e+00\n",
      " 4.19614070e+00 4.17102010e+00 4.14589950e+00 4.12077889e+00\n",
      " 4.09565829e+00 4.07053769e+00 4.04541709e+00 4.02029648e+00\n",
      " 3.99517588e+00 3.97005528e+00 3.94493467e+00 3.91981407e+00\n",
      " 3.89469347e+00 3.86957286e+00 3.84445226e+00 3.81933166e+00\n",
      " 3.79421106e+00 3.76909045e+00 3.74396985e+00 3.71884925e+00\n",
      " 3.69372864e+00 3.66860804e+00 3.64348744e+00 3.61836683e+00\n",
      " 3.59324623e+00 3.56812563e+00 3.54300503e+00 3.51788442e+00\n",
      " 3.49276382e+00 3.46764322e+00 3.44252261e+00 3.41740201e+00\n",
      " 3.39228141e+00 3.36716080e+00 3.34204020e+00 3.31691960e+00\n",
      " 3.29179899e+00 3.26667839e+00 3.24155779e+00 3.21643719e+00\n",
      " 3.19131658e+00 3.16619598e+00 3.14107538e+00 3.11595477e+00\n",
      " 3.09083417e+00 3.06571357e+00 3.04059296e+00 3.01547236e+00\n",
      " 2.99035176e+00 2.96523116e+00 2.94011055e+00 2.91498995e+00\n",
      " 2.88986935e+00 2.86474874e+00 2.83962814e+00 2.81450754e+00\n",
      " 2.78938693e+00 2.76426633e+00 2.73914573e+00 2.71402513e+00\n",
      " 2.68890452e+00 2.66378392e+00 2.63866332e+00 2.61354271e+00\n",
      " 2.58842211e+00 2.56330151e+00 2.53818090e+00 2.51306030e+00\n",
      " 2.48793970e+00 2.46281910e+00 2.43769849e+00 2.41257789e+00\n",
      " 2.38745729e+00 2.36233668e+00 2.33721608e+00 2.31209548e+00\n",
      " 2.28697487e+00 2.26185427e+00 2.23673367e+00 2.21161307e+00\n",
      " 2.18649246e+00 2.16137186e+00 2.13625126e+00 2.11113065e+00\n",
      " 2.08601005e+00 2.06088945e+00 2.03576884e+00 2.01064824e+00\n",
      " 1.98552764e+00 1.96040704e+00 1.93528643e+00 1.91016583e+00\n",
      " 1.88504523e+00 1.85992462e+00 1.83480402e+00 1.80968342e+00\n",
      " 1.78456281e+00 1.75944221e+00 1.73432161e+00 1.70920101e+00\n",
      " 1.68408040e+00 1.65895980e+00 1.63383920e+00 1.60871859e+00\n",
      " 1.58359799e+00 1.55847739e+00 1.53335678e+00 1.50823618e+00\n",
      " 1.48311558e+00 1.45799497e+00 1.43287437e+00 1.40775377e+00\n",
      " 1.38263317e+00 1.35751256e+00 1.33239196e+00 1.30727136e+00\n",
      " 1.28215075e+00 1.25703015e+00 1.23190955e+00 1.20678894e+00\n",
      " 1.18166834e+00 1.15654774e+00 1.13142714e+00 1.10630653e+00\n",
      " 1.08118593e+00 1.05606533e+00 1.03094472e+00 1.00582412e+00\n",
      " 9.80703518e-01 9.55582915e-01 9.30462312e-01 9.05341709e-01\n",
      " 8.80221106e-01 8.55100503e-01 8.29979899e-01 8.04859296e-01\n",
      " 7.79738693e-01 7.54618090e-01 7.29497487e-01 7.04376884e-01\n",
      " 6.79256281e-01 6.54135678e-01 6.29015075e-01 6.03894472e-01\n",
      " 5.78773869e-01 5.53653266e-01 5.28532663e-01 5.03412060e-01\n",
      " 4.78291457e-01 4.53170854e-01 4.28050251e-01 4.02929648e-01\n",
      " 3.77809045e-01 3.52688442e-01 3.27567839e-01 3.02447236e-01\n",
      " 2.77326633e-01 2.52206030e-01 2.27085427e-01 2.01964824e-01\n",
      " 1.76844221e-01 1.51723618e-01 1.26603015e-01 1.01482412e-01\n",
      " 7.63618090e-02 5.12412060e-02 2.61206030e-02 1.00000000e-03]\n",
      "200\n"
     ]
    }
   ],
   "source": [
    "nums = np.linspace(5, 1e-03, 200)\n",
    "print(nums)\n",
    "print(len(nums))"
   ]
  },
  {
   "cell_type": "markdown",
   "metadata": {},
   "source": [
    "## Performing Grid Search on Various Models"
   ]
  },
  {
   "cell_type": "markdown",
   "metadata": {},
   "source": [
    "### Logistic Regression"
   ]
  },
  {
   "cell_type": "code",
   "execution_count": 8,
   "metadata": {},
   "outputs": [],
   "source": [
    "leave_one_out = model_selection.LeaveOneOut()"
   ]
  },
  {
   "cell_type": "code",
   "execution_count": 9,
   "metadata": {},
   "outputs": [],
   "source": [
    "log_param_grid = {'penalty' : ['l1', 'l2', 'elasticnet', 'none'], 'C' : np.linspace(0.000001, 0.001, 100),\n",
    "                  'solver' : ['newton-cg', 'lbfgs', 'liblinear', 'sag', 'saga'], \n",
    "}"
   ]
  },
  {
   "cell_type": "code",
   "execution_count": 10,
   "metadata": {},
   "outputs": [
    {
     "name": "stdout",
     "output_type": "stream",
     "text": [
      "Fitting 5 folds for each of 2000 candidates, totalling 10000 fits\n"
     ]
    },
    {
     "name": "stderr",
     "output_type": "stream",
     "text": [
      "[Parallel(n_jobs=4)]: Using backend LokyBackend with 4 concurrent workers.\n",
      "[Parallel(n_jobs=4)]: Done  88 tasks      | elapsed:    1.7s\n",
      "[Parallel(n_jobs=4)]: Done 8712 tasks      | elapsed:   22.3s\n",
      "[Parallel(n_jobs=4)]: Done 10000 out of 10000 | elapsed:   25.3s finished\n"
     ]
    },
    {
     "data": {
      "text/plain": [
       "GridSearchCV(cv=5, error_score=nan,\n",
       "             estimator=LogisticRegression(C=1.0, class_weight=None, dual=False,\n",
       "                                          fit_intercept=True,\n",
       "                                          intercept_scaling=1, l1_ratio=None,\n",
       "                                          max_iter=100, multi_class='auto',\n",
       "                                          n_jobs=None, penalty='l2',\n",
       "                                          random_state=20, solver='lbfgs',\n",
       "                                          tol=0.0001, verbose=0,\n",
       "                                          warm_start=False),\n",
       "             iid='deprecated', n_jobs=4,\n",
       "             param_grid={'C': array([1.00000000e-06, 1.109090...\n",
       "       8.89000000e-04, 8.99090909e-04, 9.09181818e-04, 9.19272727e-04,\n",
       "       9.29363636e-04, 9.39454545e-04, 9.49545455e-04, 9.59636364e-04,\n",
       "       9.69727273e-04, 9.79818182e-04, 9.89909091e-04, 1.00000000e-03]),\n",
       "                         'penalty': ['l1', 'l2', 'elasticnet', 'none'],\n",
       "                         'solver': ['newton-cg', 'lbfgs', 'liblinear', 'sag',\n",
       "                                    'saga']},\n",
       "             pre_dispatch='2*n_jobs', refit=True, return_train_score=False,\n",
       "             scoring=None, verbose=1)"
      ]
     },
     "execution_count": 10,
     "metadata": {},
     "output_type": "execute_result"
    }
   ],
   "source": [
    "model = LogisticRegression(random_state=20)\n",
    "model_logreg = GridSearchCV(model, log_param_grid, cv = 5, n_jobs = 4, verbose = 1)\n",
    "model_logreg.fit(X_scaled_standard, y)"
   ]
  },
  {
   "cell_type": "code",
   "execution_count": 11,
   "metadata": {},
   "outputs": [
    {
     "data": {
      "text/plain": [
       "{'C': 8.172727272727273e-05, 'penalty': 'l2', 'solver': 'sag'}"
      ]
     },
     "execution_count": 11,
     "metadata": {},
     "output_type": "execute_result"
    }
   ],
   "source": [
    "model_logreg.best_params_"
   ]
  },
  {
   "cell_type": "code",
   "execution_count": 12,
   "metadata": {},
   "outputs": [
    {
     "data": {
      "text/plain": [
       "0.5333333333333334"
      ]
     },
     "execution_count": 12,
     "metadata": {},
     "output_type": "execute_result"
    }
   ],
   "source": [
    "model_logreg.best_score_"
   ]
  },
  {
   "cell_type": "code",
   "execution_count": 13,
   "metadata": {},
   "outputs": [
    {
     "name": "stdout",
     "output_type": "stream",
     "text": [
      "Fitting 10 folds for each of 2000 candidates, totalling 20000 fits\n"
     ]
    },
    {
     "name": "stderr",
     "output_type": "stream",
     "text": [
      "[Parallel(n_jobs=4)]: Using backend LokyBackend with 4 concurrent workers.\n",
      "[Parallel(n_jobs=4)]: Done 328 tasks      | elapsed:    0.6s\n",
      "[Parallel(n_jobs=4)]: Done 9720 tasks      | elapsed:   21.9s\n",
      "[Parallel(n_jobs=4)]: Done 20000 out of 20000 | elapsed:   43.5s finished\n",
      "C:\\Anaconda\\lib\\site-packages\\sklearn\\linear_model\\_logistic.py:1505: UserWarning: Setting penalty='none' will ignore the C and l1_ratio parameters\n",
      "  \"Setting penalty='none' will ignore the C and l1_ratio \"\n",
      "C:\\Anaconda\\lib\\site-packages\\sklearn\\linear_model\\_sag.py:330: ConvergenceWarning: The max_iter was reached which means the coef_ did not converge\n",
      "  \"the coef_ did not converge\", ConvergenceWarning)\n"
     ]
    },
    {
     "data": {
      "text/plain": [
       "GridSearchCV(cv=10, error_score=nan,\n",
       "             estimator=LogisticRegression(C=1.0, class_weight=None, dual=False,\n",
       "                                          fit_intercept=True,\n",
       "                                          intercept_scaling=1, l1_ratio=None,\n",
       "                                          max_iter=100, multi_class='auto',\n",
       "                                          n_jobs=None, penalty='l2',\n",
       "                                          random_state=None, solver='lbfgs',\n",
       "                                          tol=0.0001, verbose=0,\n",
       "                                          warm_start=False),\n",
       "             iid='deprecated', n_jobs=4,\n",
       "             param_grid={'C': array([1.00000000e-06, 1.109...\n",
       "       8.89000000e-04, 8.99090909e-04, 9.09181818e-04, 9.19272727e-04,\n",
       "       9.29363636e-04, 9.39454545e-04, 9.49545455e-04, 9.59636364e-04,\n",
       "       9.69727273e-04, 9.79818182e-04, 9.89909091e-04, 1.00000000e-03]),\n",
       "                         'penalty': ['l1', 'l2', 'elasticnet', 'none'],\n",
       "                         'solver': ['newton-cg', 'lbfgs', 'liblinear', 'sag',\n",
       "                                    'saga']},\n",
       "             pre_dispatch='2*n_jobs', refit=True, return_train_score=False,\n",
       "             scoring=None, verbose=1)"
      ]
     },
     "execution_count": 13,
     "metadata": {},
     "output_type": "execute_result"
    }
   ],
   "source": [
    "model = LogisticRegression()\n",
    "model_logreg = GridSearchCV(model, log_param_grid, cv = 10, n_jobs = 4, verbose = 1)\n",
    "model_logreg.fit(X_scaled_standard, y)"
   ]
  },
  {
   "cell_type": "code",
   "execution_count": 14,
   "metadata": {},
   "outputs": [
    {
     "data": {
      "text/plain": [
       "{'C': 1e-06, 'penalty': 'none', 'solver': 'sag'}"
      ]
     },
     "execution_count": 14,
     "metadata": {},
     "output_type": "execute_result"
    }
   ],
   "source": [
    "model_logreg.best_params_"
   ]
  },
  {
   "cell_type": "code",
   "execution_count": 15,
   "metadata": {},
   "outputs": [
    {
     "data": {
      "text/plain": [
       "0.575"
      ]
     },
     "execution_count": 15,
     "metadata": {},
     "output_type": "execute_result"
    }
   ],
   "source": [
    "model_logreg.best_score_"
   ]
  },
  {
   "cell_type": "code",
   "execution_count": 16,
   "metadata": {},
   "outputs": [
    {
     "name": "stdout",
     "output_type": "stream",
     "text": [
      "Fitting 120 folds for each of 2000 candidates, totalling 240000 fits\n"
     ]
    },
    {
     "name": "stderr",
     "output_type": "stream",
     "text": [
      "[Parallel(n_jobs=4)]: Using backend LokyBackend with 4 concurrent workers.\n",
      "[Parallel(n_jobs=4)]: Done 312 tasks      | elapsed:    0.4s\n",
      "[Parallel(n_jobs=4)]: Done 8736 tasks      | elapsed:   16.0s\n",
      "[Parallel(n_jobs=4)]: Done 19520 tasks      | elapsed:   41.0s\n",
      "[Parallel(n_jobs=4)]: Done 41952 tasks      | elapsed:  1.4min\n",
      "[Parallel(n_jobs=4)]: Done 77424 tasks      | elapsed:  2.6min\n",
      "[Parallel(n_jobs=4)]: Done 104012 tasks      | elapsed:  3.5min\n",
      "[Parallel(n_jobs=4)]: Done 136208 tasks      | elapsed:  4.6min\n",
      "[Parallel(n_jobs=4)]: Done 169760 tasks      | elapsed:  5.7min\n",
      "[Parallel(n_jobs=4)]: Done 236016 tasks      | elapsed:  7.9min\n",
      "[Parallel(n_jobs=4)]: Done 240000 out of 240000 | elapsed:  8.0min finished\n",
      "C:\\Anaconda\\lib\\site-packages\\sklearn\\linear_model\\_logistic.py:1505: UserWarning: Setting penalty='none' will ignore the C and l1_ratio parameters\n",
      "  \"Setting penalty='none' will ignore the C and l1_ratio \"\n",
      "C:\\Anaconda\\lib\\site-packages\\sklearn\\linear_model\\_sag.py:330: ConvergenceWarning: The max_iter was reached which means the coef_ did not converge\n",
      "  \"the coef_ did not converge\", ConvergenceWarning)\n"
     ]
    },
    {
     "data": {
      "text/plain": [
       "GridSearchCV(cv=LeaveOneOut(), error_score=nan,\n",
       "             estimator=LogisticRegression(C=1.0, class_weight=None, dual=False,\n",
       "                                          fit_intercept=True,\n",
       "                                          intercept_scaling=1, l1_ratio=None,\n",
       "                                          max_iter=100, multi_class='auto',\n",
       "                                          n_jobs=None, penalty='l2',\n",
       "                                          random_state=None, solver='lbfgs',\n",
       "                                          tol=0.0001, verbose=0,\n",
       "                                          warm_start=False),\n",
       "             iid='deprecated', n_jobs=4,\n",
       "             param_grid={'C': array([1.0000000...\n",
       "       8.89000000e-04, 8.99090909e-04, 9.09181818e-04, 9.19272727e-04,\n",
       "       9.29363636e-04, 9.39454545e-04, 9.49545455e-04, 9.59636364e-04,\n",
       "       9.69727273e-04, 9.79818182e-04, 9.89909091e-04, 1.00000000e-03]),\n",
       "                         'penalty': ['l1', 'l2', 'elasticnet', 'none'],\n",
       "                         'solver': ['newton-cg', 'lbfgs', 'liblinear', 'sag',\n",
       "                                    'saga']},\n",
       "             pre_dispatch='2*n_jobs', refit=True, return_train_score=False,\n",
       "             scoring=None, verbose=1)"
      ]
     },
     "execution_count": 16,
     "metadata": {},
     "output_type": "execute_result"
    }
   ],
   "source": [
    "model = LogisticRegression()\n",
    "model_logreg = GridSearchCV(model, log_param_grid, cv = leave_one_out, n_jobs = 4, verbose = 1)\n",
    "model_logreg.fit(X_scaled_standard, y)"
   ]
  },
  {
   "cell_type": "code",
   "execution_count": 17,
   "metadata": {},
   "outputs": [
    {
     "data": {
      "text/plain": [
       "{'C': 0.00018263636363636363, 'penalty': 'none', 'solver': 'sag'}"
      ]
     },
     "execution_count": 17,
     "metadata": {},
     "output_type": "execute_result"
    }
   ],
   "source": [
    "model_logreg.best_params_"
   ]
  },
  {
   "cell_type": "code",
   "execution_count": 18,
   "metadata": {},
   "outputs": [
    {
     "data": {
      "text/plain": [
       "0.625"
      ]
     },
     "execution_count": 18,
     "metadata": {},
     "output_type": "execute_result"
    }
   ],
   "source": [
    "model_logreg.best_score_"
   ]
  },
  {
   "cell_type": "markdown",
   "metadata": {},
   "source": [
    "### Decision Trees"
   ]
  },
  {
   "cell_type": "code",
   "execution_count": 19,
   "metadata": {},
   "outputs": [],
   "source": [
    "dec_trees_param_grid = {\n",
    "    'max_depth' : range(1,20), 'criterion' : ['gini', 'entropy'], 'splitter' : ['best', 'random'], \n",
    "    'min_samples_split' : range(0, 10), 'max_leaf_nodes': range(1,50,5), 'min_impurity_decrease': np.linspace(0.00001, 0.001, 150) } "
   ]
  },
  {
   "cell_type": "code",
   "execution_count": 20,
   "metadata": {},
   "outputs": [
    {
     "name": "stdout",
     "output_type": "stream",
     "text": [
      "Fitting 5 folds for each of 1140000 candidates, totalling 5700000 fits\n"
     ]
    },
    {
     "name": "stderr",
     "output_type": "stream",
     "text": [
      "[Parallel(n_jobs=4)]: Using backend LokyBackend with 4 concurrent workers.\n",
      "[Parallel(n_jobs=4)]: Done 312 tasks      | elapsed:    0.5s\n",
      "[Parallel(n_jobs=4)]: Done 9720 tasks      | elapsed:    6.2s\n",
      "[Parallel(n_jobs=4)]: Done 25720 tasks      | elapsed:   16.4s\n",
      "[Parallel(n_jobs=4)]: Done 48120 tasks      | elapsed:   31.2s\n",
      "[Parallel(n_jobs=4)]: Done 76920 tasks      | elapsed:   50.8s\n",
      "[Parallel(n_jobs=4)]: Done 112120 tasks      | elapsed:  1.2min\n",
      "[Parallel(n_jobs=4)]: Done 153720 tasks      | elapsed:  1.7min\n",
      "[Parallel(n_jobs=4)]: Done 201720 tasks      | elapsed:  2.2min\n",
      "[Parallel(n_jobs=4)]: Done 256120 tasks      | elapsed:  2.8min\n",
      "[Parallel(n_jobs=4)]: Done 316920 tasks      | elapsed:  3.5min\n",
      "[Parallel(n_jobs=4)]: Done 384120 tasks      | elapsed:  4.2min\n",
      "[Parallel(n_jobs=4)]: Done 457720 tasks      | elapsed:  5.1min\n",
      "[Parallel(n_jobs=4)]: Done 537720 tasks      | elapsed:  6.0min\n",
      "[Parallel(n_jobs=4)]: Done 624120 tasks      | elapsed:  7.0min\n",
      "[Parallel(n_jobs=4)]: Done 716920 tasks      | elapsed:  8.1min\n",
      "[Parallel(n_jobs=4)]: Done 816120 tasks      | elapsed:  9.3min\n",
      "[Parallel(n_jobs=4)]: Done 921720 tasks      | elapsed: 10.5min\n",
      "[Parallel(n_jobs=4)]: Done 1033720 tasks      | elapsed: 11.9min\n",
      "[Parallel(n_jobs=4)]: Done 1152120 tasks      | elapsed: 13.3min\n",
      "[Parallel(n_jobs=4)]: Done 1276920 tasks      | elapsed: 14.8min\n",
      "[Parallel(n_jobs=4)]: Done 1408120 tasks      | elapsed: 16.4min\n",
      "[Parallel(n_jobs=4)]: Done 1545720 tasks      | elapsed: 18.1min\n",
      "[Parallel(n_jobs=4)]: Done 1689720 tasks      | elapsed: 19.8min\n",
      "[Parallel(n_jobs=4)]: Done 1840120 tasks      | elapsed: 21.6min\n",
      "[Parallel(n_jobs=4)]: Done 1996920 tasks      | elapsed: 23.5min\n",
      "[Parallel(n_jobs=4)]: Done 2160120 tasks      | elapsed: 25.6min\n",
      "[Parallel(n_jobs=4)]: Done 2329720 tasks      | elapsed: 27.7min\n",
      "[Parallel(n_jobs=4)]: Done 2505720 tasks      | elapsed: 30.0min\n",
      "[Parallel(n_jobs=4)]: Done 2688120 tasks      | elapsed: 32.2min\n",
      "[Parallel(n_jobs=4)]: Done 2876920 tasks      | elapsed: 34.7min\n",
      "[Parallel(n_jobs=4)]: Done 3072120 tasks      | elapsed: 37.1min\n",
      "[Parallel(n_jobs=4)]: Done 3273720 tasks      | elapsed: 39.7min\n",
      "[Parallel(n_jobs=4)]: Done 3481720 tasks      | elapsed: 42.3min\n",
      "[Parallel(n_jobs=4)]: Done 3696120 tasks      | elapsed: 45.3min\n",
      "[Parallel(n_jobs=4)]: Done 3916920 tasks      | elapsed: 48.3min\n",
      "[Parallel(n_jobs=4)]: Done 4144120 tasks      | elapsed: 51.6min\n",
      "[Parallel(n_jobs=4)]: Done 4377720 tasks      | elapsed: 54.9min\n",
      "[Parallel(n_jobs=4)]: Done 4617720 tasks      | elapsed: 58.4min\n",
      "[Parallel(n_jobs=4)]: Done 4864120 tasks      | elapsed: 61.9min\n",
      "[Parallel(n_jobs=4)]: Done 5116920 tasks      | elapsed: 65.6min\n",
      "[Parallel(n_jobs=4)]: Done 5376120 tasks      | elapsed: 69.3min\n",
      "[Parallel(n_jobs=4)]: Done 5641720 tasks      | elapsed: 73.2min\n",
      "[Parallel(n_jobs=4)]: Done 5700000 out of 5700000 | elapsed: 74.1min finished\n"
     ]
    },
    {
     "data": {
      "text/plain": [
       "GridSearchCV(cv=5, error_score=nan,\n",
       "             estimator=DecisionTreeClassifier(ccp_alpha=0.0, class_weight=None,\n",
       "                                              criterion='gini', max_depth=None,\n",
       "                                              max_features=None,\n",
       "                                              max_leaf_nodes=None,\n",
       "                                              min_impurity_decrease=0.0,\n",
       "                                              min_impurity_split=None,\n",
       "                                              min_samples_leaf=1,\n",
       "                                              min_samples_split=2,\n",
       "                                              min_weight_fraction_leaf=0.0,\n",
       "                                              presort='deprecated',\n",
       "                                              random_state=20,\n",
       "                                              splitter='best'),\n",
       "             iid='depr...\n",
       "       9.13624161e-04, 9.20268456e-04, 9.26912752e-04, 9.33557047e-04,\n",
       "       9.40201342e-04, 9.46845638e-04, 9.53489933e-04, 9.60134228e-04,\n",
       "       9.66778523e-04, 9.73422819e-04, 9.80067114e-04, 9.86711409e-04,\n",
       "       9.93355705e-04, 1.00000000e-03]),\n",
       "                         'min_samples_split': range(0, 10),\n",
       "                         'splitter': ['best', 'random']},\n",
       "             pre_dispatch='2*n_jobs', refit=True, return_train_score=False,\n",
       "             scoring=None, verbose=1)"
      ]
     },
     "execution_count": 20,
     "metadata": {},
     "output_type": "execute_result"
    }
   ],
   "source": [
    "model = DecisionTreeClassifier(random_state=20)\n",
    "model_dectree = GridSearchCV(model, dec_trees_param_grid, cv=5, n_jobs = 4, verbose = 1)\n",
    "model_dectree.fit(X_scaled_standard, y)"
   ]
  },
  {
   "cell_type": "code",
   "execution_count": 21,
   "metadata": {},
   "outputs": [
    {
     "data": {
      "text/plain": [
       "{'criterion': 'entropy',\n",
       " 'max_depth': 5,\n",
       " 'max_leaf_nodes': 6,\n",
       " 'min_impurity_decrease': 1e-05,\n",
       " 'min_samples_split': 2,\n",
       " 'splitter': 'best'}"
      ]
     },
     "execution_count": 21,
     "metadata": {},
     "output_type": "execute_result"
    }
   ],
   "source": [
    "model_dectree.best_params_"
   ]
  },
  {
   "cell_type": "code",
   "execution_count": 22,
   "metadata": {},
   "outputs": [
    {
     "data": {
      "text/plain": [
       "0.625"
      ]
     },
     "execution_count": 22,
     "metadata": {},
     "output_type": "execute_result"
    }
   ],
   "source": [
    "model_dectree.best_score_"
   ]
  },
  {
   "cell_type": "code",
   "execution_count": 23,
   "metadata": {},
   "outputs": [
    {
     "name": "stdout",
     "output_type": "stream",
     "text": [
      "Fitting 10 folds for each of 1140000 candidates, totalling 11400000 fits\n"
     ]
    },
    {
     "name": "stderr",
     "output_type": "stream",
     "text": [
      "[Parallel(n_jobs=4)]: Using backend LokyBackend with 4 concurrent workers.\n",
      "[Parallel(n_jobs=4)]: Done 312 tasks      | elapsed:    0.5s\n",
      "[Parallel(n_jobs=4)]: Done 18424 tasks      | elapsed:   13.4s\n",
      "[Parallel(n_jobs=4)]: Done 50424 tasks      | elapsed:   34.2s\n",
      "[Parallel(n_jobs=4)]: Done 95224 tasks      | elapsed:  1.1min\n",
      "[Parallel(n_jobs=4)]: Done 152824 tasks      | elapsed:  1.7min\n",
      "[Parallel(n_jobs=4)]: Done 223224 tasks      | elapsed:  2.4min\n",
      "[Parallel(n_jobs=4)]: Done 306424 tasks      | elapsed:  3.3min\n",
      "[Parallel(n_jobs=4)]: Done 402424 tasks      | elapsed:  4.3min\n",
      "[Parallel(n_jobs=4)]: Done 511224 tasks      | elapsed:  5.5min\n",
      "[Parallel(n_jobs=4)]: Done 632824 tasks      | elapsed:  6.8min\n",
      "[Parallel(n_jobs=4)]: Done 767224 tasks      | elapsed:  8.3min\n",
      "[Parallel(n_jobs=4)]: Done 914424 tasks      | elapsed: 10.0min\n",
      "[Parallel(n_jobs=4)]: Done 1074424 tasks      | elapsed: 11.8min\n",
      "[Parallel(n_jobs=4)]: Done 1247224 tasks      | elapsed: 13.8min\n",
      "[Parallel(n_jobs=4)]: Done 1432824 tasks      | elapsed: 16.0min\n",
      "[Parallel(n_jobs=4)]: Done 1631224 tasks      | elapsed: 18.4min\n",
      "[Parallel(n_jobs=4)]: Done 1842424 tasks      | elapsed: 20.9min\n",
      "[Parallel(n_jobs=4)]: Done 2066424 tasks      | elapsed: 23.7min\n",
      "[Parallel(n_jobs=4)]: Done 2303224 tasks      | elapsed: 26.7min\n",
      "[Parallel(n_jobs=4)]: Done 2552824 tasks      | elapsed: 29.8min\n",
      "[Parallel(n_jobs=4)]: Done 2815224 tasks      | elapsed: 33.1min\n",
      "[Parallel(n_jobs=4)]: Done 3090424 tasks      | elapsed: 36.4min\n",
      "[Parallel(n_jobs=4)]: Done 3378424 tasks      | elapsed: 40.0min\n",
      "[Parallel(n_jobs=4)]: Done 3679224 tasks      | elapsed: 43.7min\n",
      "[Parallel(n_jobs=4)]: Done 3992824 tasks      | elapsed: 47.6min\n",
      "[Parallel(n_jobs=4)]: Done 4319224 tasks      | elapsed: 51.7min\n",
      "[Parallel(n_jobs=4)]: Done 4658424 tasks      | elapsed: 55.9min\n",
      "[Parallel(n_jobs=4)]: Done 5010424 tasks      | elapsed: 60.3min\n",
      "[Parallel(n_jobs=4)]: Done 5375224 tasks      | elapsed: 64.9min\n",
      "[Parallel(n_jobs=4)]: Done 5752824 tasks      | elapsed: 69.4min\n",
      "[Parallel(n_jobs=4)]: Done 6143224 tasks      | elapsed: 73.8min\n",
      "[Parallel(n_jobs=4)]: Done 6546424 tasks      | elapsed: 78.7min\n",
      "[Parallel(n_jobs=4)]: Done 6950104 tasks      | elapsed: 84.0min\n",
      "[Parallel(n_jobs=4)]: Done 7271704 tasks      | elapsed: 88.5min\n",
      "[Parallel(n_jobs=4)]: Done 7586440 tasks      | elapsed: 93.1min\n",
      "[Parallel(n_jobs=4)]: Done 7842040 tasks      | elapsed: 96.9min\n",
      "[Parallel(n_jobs=4)]: Done 8104840 tasks      | elapsed: 101.1min\n",
      "[Parallel(n_jobs=4)]: Done 8374840 tasks      | elapsed: 105.3min\n",
      "[Parallel(n_jobs=4)]: Done 8719352 tasks      | elapsed: 110.7min\n",
      "[Parallel(n_jobs=4)]: Done 9161752 tasks      | elapsed: 117.5min\n",
      "[Parallel(n_jobs=4)]: Done 9488472 tasks      | elapsed: 122.8min\n",
      "[Parallel(n_jobs=4)]: Done 9853672 tasks      | elapsed: 128.6min\n",
      "exception calling callback for <Future at 0x1b20577ba08 state=finished returned list>\n",
      "Traceback (most recent call last):\n",
      "  File \"C:\\Anaconda\\lib\\site-packages\\joblib\\externals\\loky\\_base.py\", line 625, in _invoke_callbacks\n",
      "    callback(self)\n",
      "  File \"C:\\Anaconda\\lib\\site-packages\\joblib\\parallel.py\", line 340, in __call__\n",
      "    self.parallel.dispatch_next()\n",
      "  File \"C:\\Anaconda\\lib\\site-packages\\joblib\\parallel.py\", line 769, in dispatch_next\n",
      "    if not self.dispatch_one_batch(self._original_iterator):\n",
      "  File \"C:\\Anaconda\\lib\\site-packages\\joblib\\parallel.py\", line 835, in dispatch_one_batch\n",
      "    self._dispatch(tasks)\n",
      "  File \"C:\\Anaconda\\lib\\site-packages\\joblib\\parallel.py\", line 754, in _dispatch\n",
      "    job = self._backend.apply_async(batch, callback=cb)\n",
      "  File \"C:\\Anaconda\\lib\\site-packages\\joblib\\_parallel_backends.py\", line 551, in apply_async\n",
      "    future = self._workers.submit(SafeFunction(func))\n",
      "AttributeError: 'NoneType' object has no attribute 'submit'\n",
      "exception calling callback for <Future at 0x1b2057811c8 state=finished returned list>\n",
      "Traceback (most recent call last):\n",
      "  File \"C:\\Anaconda\\lib\\site-packages\\joblib\\externals\\loky\\_base.py\", line 625, in _invoke_callbacks\n",
      "    callback(self)\n",
      "  File \"C:\\Anaconda\\lib\\site-packages\\joblib\\parallel.py\", line 340, in __call__\n",
      "    self.parallel.dispatch_next()\n",
      "  File \"C:\\Anaconda\\lib\\site-packages\\joblib\\parallel.py\", line 769, in dispatch_next\n",
      "    if not self.dispatch_one_batch(self._original_iterator):\n",
      "  File \"C:\\Anaconda\\lib\\site-packages\\joblib\\parallel.py\", line 835, in dispatch_one_batch\n",
      "    self._dispatch(tasks)\n",
      "  File \"C:\\Anaconda\\lib\\site-packages\\joblib\\parallel.py\", line 754, in _dispatch\n",
      "    job = self._backend.apply_async(batch, callback=cb)\n",
      "  File \"C:\\Anaconda\\lib\\site-packages\\joblib\\_parallel_backends.py\", line 551, in apply_async\n",
      "    future = self._workers.submit(SafeFunction(func))\n",
      "AttributeError: 'NoneType' object has no attribute 'submit'\n",
      "exception calling callback for <Future at 0x1b20580d808 state=finished returned list>\n",
      "Traceback (most recent call last):\n",
      "  File \"C:\\Anaconda\\lib\\site-packages\\joblib\\externals\\loky\\_base.py\", line 625, in _invoke_callbacks\n",
      "    callback(self)\n",
      "  File \"C:\\Anaconda\\lib\\site-packages\\joblib\\parallel.py\", line 340, in __call__\n",
      "    self.parallel.dispatch_next()\n",
      "  File \"C:\\Anaconda\\lib\\site-packages\\joblib\\parallel.py\", line 769, in dispatch_next\n",
      "    if not self.dispatch_one_batch(self._original_iterator):\n",
      "  File \"C:\\Anaconda\\lib\\site-packages\\joblib\\parallel.py\", line 835, in dispatch_one_batch\n",
      "    self._dispatch(tasks)\n",
      "  File \"C:\\Anaconda\\lib\\site-packages\\joblib\\parallel.py\", line 754, in _dispatch\n",
      "    job = self._backend.apply_async(batch, callback=cb)\n",
      "  File \"C:\\Anaconda\\lib\\site-packages\\joblib\\_parallel_backends.py\", line 551, in apply_async\n",
      "    future = self._workers.submit(SafeFunction(func))\n",
      "AttributeError: 'NoneType' object has no attribute 'submit'\n",
      "exception calling callback for <Future at 0x1b20580dc48 state=finished returned list>\n",
      "Traceback (most recent call last):\n",
      "  File \"C:\\Anaconda\\lib\\site-packages\\joblib\\externals\\loky\\_base.py\", line 625, in _invoke_callbacks\n",
      "    callback(self)\n",
      "  File \"C:\\Anaconda\\lib\\site-packages\\joblib\\parallel.py\", line 340, in __call__\n",
      "    self.parallel.dispatch_next()\n",
      "  File \"C:\\Anaconda\\lib\\site-packages\\joblib\\parallel.py\", line 769, in dispatch_next\n",
      "    if not self.dispatch_one_batch(self._original_iterator):\n",
      "  File \"C:\\Anaconda\\lib\\site-packages\\joblib\\parallel.py\", line 835, in dispatch_one_batch\n",
      "    self._dispatch(tasks)\n",
      "  File \"C:\\Anaconda\\lib\\site-packages\\joblib\\parallel.py\", line 754, in _dispatch\n",
      "    job = self._backend.apply_async(batch, callback=cb)\n",
      "  File \"C:\\Anaconda\\lib\\site-packages\\joblib\\_parallel_backends.py\", line 551, in apply_async\n",
      "    future = self._workers.submit(SafeFunction(func))\n",
      "AttributeError: 'NoneType' object has no attribute 'submit'\n",
      "exception calling callback for <Future at 0x1b20578fb48 state=finished returned list>\n",
      "Traceback (most recent call last):\n",
      "  File \"C:\\Anaconda\\lib\\site-packages\\joblib\\externals\\loky\\_base.py\", line 625, in _invoke_callbacks\n",
      "    callback(self)\n",
      "  File \"C:\\Anaconda\\lib\\site-packages\\joblib\\parallel.py\", line 340, in __call__\n",
      "    self.parallel.dispatch_next()\n",
      "  File \"C:\\Anaconda\\lib\\site-packages\\joblib\\parallel.py\", line 769, in dispatch_next\n",
      "    if not self.dispatch_one_batch(self._original_iterator):\n",
      "  File \"C:\\Anaconda\\lib\\site-packages\\joblib\\parallel.py\", line 835, in dispatch_one_batch\n",
      "    self._dispatch(tasks)\n",
      "  File \"C:\\Anaconda\\lib\\site-packages\\joblib\\parallel.py\", line 754, in _dispatch\n",
      "    job = self._backend.apply_async(batch, callback=cb)\n",
      "  File \"C:\\Anaconda\\lib\\site-packages\\joblib\\_parallel_backends.py\", line 551, in apply_async\n",
      "    future = self._workers.submit(SafeFunction(func))\n",
      "AttributeError: 'NoneType' object has no attribute 'submit'\n",
      "exception calling callback for <Future at 0x1b2057863c8 state=finished returned list>\n",
      "Traceback (most recent call last):\n",
      "  File \"C:\\Anaconda\\lib\\site-packages\\joblib\\externals\\loky\\_base.py\", line 625, in _invoke_callbacks\n",
      "    callback(self)\n",
      "  File \"C:\\Anaconda\\lib\\site-packages\\joblib\\parallel.py\", line 340, in __call__\n",
      "    self.parallel.dispatch_next()\n",
      "  File \"C:\\Anaconda\\lib\\site-packages\\joblib\\parallel.py\", line 769, in dispatch_next\n",
      "    if not self.dispatch_one_batch(self._original_iterator):\n",
      "  File \"C:\\Anaconda\\lib\\site-packages\\joblib\\parallel.py\", line 835, in dispatch_one_batch\n",
      "    self._dispatch(tasks)\n",
      "  File \"C:\\Anaconda\\lib\\site-packages\\joblib\\parallel.py\", line 754, in _dispatch\n",
      "    job = self._backend.apply_async(batch, callback=cb)\n",
      "  File \"C:\\Anaconda\\lib\\site-packages\\joblib\\_parallel_backends.py\", line 551, in apply_async\n",
      "    future = self._workers.submit(SafeFunction(func))\n",
      "AttributeError: 'NoneType' object has no attribute 'submit'\n"
     ]
    },
    {
     "name": "stderr",
     "output_type": "stream",
     "text": [
      "exception calling callback for <Future at 0x1b205837608 state=finished returned list>\n",
      "Traceback (most recent call last):\n",
      "  File \"C:\\Anaconda\\lib\\site-packages\\joblib\\externals\\loky\\_base.py\", line 625, in _invoke_callbacks\n",
      "    callback(self)\n",
      "  File \"C:\\Anaconda\\lib\\site-packages\\joblib\\parallel.py\", line 340, in __call__\n",
      "    self.parallel.dispatch_next()\n",
      "  File \"C:\\Anaconda\\lib\\site-packages\\joblib\\parallel.py\", line 769, in dispatch_next\n",
      "    if not self.dispatch_one_batch(self._original_iterator):\n",
      "  File \"C:\\Anaconda\\lib\\site-packages\\joblib\\parallel.py\", line 835, in dispatch_one_batch\n",
      "    self._dispatch(tasks)\n",
      "  File \"C:\\Anaconda\\lib\\site-packages\\joblib\\parallel.py\", line 754, in _dispatch\n",
      "    job = self._backend.apply_async(batch, callback=cb)\n",
      "  File \"C:\\Anaconda\\lib\\site-packages\\joblib\\_parallel_backends.py\", line 551, in apply_async\n",
      "    future = self._workers.submit(SafeFunction(func))\n",
      "AttributeError: 'NoneType' object has no attribute 'submit'\n",
      "exception calling callback for <Future at 0x1b2057ca688 state=finished returned list>\n",
      "Traceback (most recent call last):\n",
      "  File \"C:\\Anaconda\\lib\\site-packages\\joblib\\externals\\loky\\_base.py\", line 625, in _invoke_callbacks\n",
      "    callback(self)\n",
      "  File \"C:\\Anaconda\\lib\\site-packages\\joblib\\parallel.py\", line 340, in __call__\n",
      "    self.parallel.dispatch_next()\n",
      "  File \"C:\\Anaconda\\lib\\site-packages\\joblib\\parallel.py\", line 769, in dispatch_next\n",
      "    if not self.dispatch_one_batch(self._original_iterator):\n",
      "  File \"C:\\Anaconda\\lib\\site-packages\\joblib\\parallel.py\", line 835, in dispatch_one_batch\n",
      "    self._dispatch(tasks)\n",
      "  File \"C:\\Anaconda\\lib\\site-packages\\joblib\\parallel.py\", line 754, in _dispatch\n",
      "    job = self._backend.apply_async(batch, callback=cb)\n",
      "  File \"C:\\Anaconda\\lib\\site-packages\\joblib\\_parallel_backends.py\", line 551, in apply_async\n",
      "    future = self._workers.submit(SafeFunction(func))\n",
      "AttributeError: 'NoneType' object has no attribute 'submit'\n"
     ]
    },
    {
     "ename": "KeyboardInterrupt",
     "evalue": "",
     "output_type": "error",
     "traceback": [
      "\u001b[1;31m---------------------------------------------------------------------------\u001b[0m",
      "\u001b[1;31mKeyboardInterrupt\u001b[0m                         Traceback (most recent call last)",
      "\u001b[1;32m<ipython-input-23-912f456d31ef>\u001b[0m in \u001b[0;36m<module>\u001b[1;34m\u001b[0m\n\u001b[0;32m      1\u001b[0m \u001b[0mmodel\u001b[0m \u001b[1;33m=\u001b[0m \u001b[0mDecisionTreeClassifier\u001b[0m\u001b[1;33m(\u001b[0m\u001b[0mrandom_state\u001b[0m\u001b[1;33m=\u001b[0m\u001b[1;36m20\u001b[0m\u001b[1;33m)\u001b[0m\u001b[1;33m\u001b[0m\u001b[1;33m\u001b[0m\u001b[0m\n\u001b[0;32m      2\u001b[0m \u001b[0mmodel_dectree\u001b[0m \u001b[1;33m=\u001b[0m \u001b[0mGridSearchCV\u001b[0m\u001b[1;33m(\u001b[0m\u001b[0mmodel\u001b[0m\u001b[1;33m,\u001b[0m \u001b[0mdec_trees_param_grid\u001b[0m\u001b[1;33m,\u001b[0m \u001b[0mcv\u001b[0m\u001b[1;33m=\u001b[0m\u001b[1;36m10\u001b[0m\u001b[1;33m,\u001b[0m \u001b[0mn_jobs\u001b[0m \u001b[1;33m=\u001b[0m \u001b[1;36m4\u001b[0m\u001b[1;33m,\u001b[0m \u001b[0mverbose\u001b[0m \u001b[1;33m=\u001b[0m \u001b[1;36m1\u001b[0m\u001b[1;33m)\u001b[0m\u001b[1;33m\u001b[0m\u001b[1;33m\u001b[0m\u001b[0m\n\u001b[1;32m----> 3\u001b[1;33m \u001b[0mmodel_dectree\u001b[0m\u001b[1;33m.\u001b[0m\u001b[0mfit\u001b[0m\u001b[1;33m(\u001b[0m\u001b[0mX_scaled_standard\u001b[0m\u001b[1;33m,\u001b[0m \u001b[0my\u001b[0m\u001b[1;33m)\u001b[0m\u001b[1;33m\u001b[0m\u001b[1;33m\u001b[0m\u001b[0m\n\u001b[0m",
      "\u001b[1;32mC:\\Anaconda\\lib\\site-packages\\sklearn\\model_selection\\_search.py\u001b[0m in \u001b[0;36mfit\u001b[1;34m(self, X, y, groups, **fit_params)\u001b[0m\n\u001b[0;32m    708\u001b[0m                 \u001b[1;32mreturn\u001b[0m \u001b[0mresults\u001b[0m\u001b[1;33m\u001b[0m\u001b[1;33m\u001b[0m\u001b[0m\n\u001b[0;32m    709\u001b[0m \u001b[1;33m\u001b[0m\u001b[0m\n\u001b[1;32m--> 710\u001b[1;33m             \u001b[0mself\u001b[0m\u001b[1;33m.\u001b[0m\u001b[0m_run_search\u001b[0m\u001b[1;33m(\u001b[0m\u001b[0mevaluate_candidates\u001b[0m\u001b[1;33m)\u001b[0m\u001b[1;33m\u001b[0m\u001b[1;33m\u001b[0m\u001b[0m\n\u001b[0m\u001b[0;32m    711\u001b[0m \u001b[1;33m\u001b[0m\u001b[0m\n\u001b[0;32m    712\u001b[0m         \u001b[1;31m# For multi-metric evaluation, store the best_index_, best_params_ and\u001b[0m\u001b[1;33m\u001b[0m\u001b[1;33m\u001b[0m\u001b[1;33m\u001b[0m\u001b[0m\n",
      "\u001b[1;32mC:\\Anaconda\\lib\\site-packages\\sklearn\\model_selection\\_search.py\u001b[0m in \u001b[0;36m_run_search\u001b[1;34m(self, evaluate_candidates)\u001b[0m\n\u001b[0;32m   1149\u001b[0m     \u001b[1;32mdef\u001b[0m \u001b[0m_run_search\u001b[0m\u001b[1;33m(\u001b[0m\u001b[0mself\u001b[0m\u001b[1;33m,\u001b[0m \u001b[0mevaluate_candidates\u001b[0m\u001b[1;33m)\u001b[0m\u001b[1;33m:\u001b[0m\u001b[1;33m\u001b[0m\u001b[1;33m\u001b[0m\u001b[0m\n\u001b[0;32m   1150\u001b[0m         \u001b[1;34m\"\"\"Search all candidates in param_grid\"\"\"\u001b[0m\u001b[1;33m\u001b[0m\u001b[1;33m\u001b[0m\u001b[0m\n\u001b[1;32m-> 1151\u001b[1;33m         \u001b[0mevaluate_candidates\u001b[0m\u001b[1;33m(\u001b[0m\u001b[0mParameterGrid\u001b[0m\u001b[1;33m(\u001b[0m\u001b[0mself\u001b[0m\u001b[1;33m.\u001b[0m\u001b[0mparam_grid\u001b[0m\u001b[1;33m)\u001b[0m\u001b[1;33m)\u001b[0m\u001b[1;33m\u001b[0m\u001b[1;33m\u001b[0m\u001b[0m\n\u001b[0m\u001b[0;32m   1152\u001b[0m \u001b[1;33m\u001b[0m\u001b[0m\n\u001b[0;32m   1153\u001b[0m \u001b[1;33m\u001b[0m\u001b[0m\n",
      "\u001b[1;32mC:\\Anaconda\\lib\\site-packages\\sklearn\\model_selection\\_search.py\u001b[0m in \u001b[0;36mevaluate_candidates\u001b[1;34m(candidate_params)\u001b[0m\n\u001b[0;32m    687\u001b[0m                                \u001b[1;32mfor\u001b[0m \u001b[0mparameters\u001b[0m\u001b[1;33m,\u001b[0m \u001b[1;33m(\u001b[0m\u001b[0mtrain\u001b[0m\u001b[1;33m,\u001b[0m \u001b[0mtest\u001b[0m\u001b[1;33m)\u001b[0m\u001b[1;33m\u001b[0m\u001b[1;33m\u001b[0m\u001b[0m\n\u001b[0;32m    688\u001b[0m                                in product(candidate_params,\n\u001b[1;32m--> 689\u001b[1;33m                                           cv.split(X, y, groups)))\n\u001b[0m\u001b[0;32m    690\u001b[0m \u001b[1;33m\u001b[0m\u001b[0m\n\u001b[0;32m    691\u001b[0m                 \u001b[1;32mif\u001b[0m \u001b[0mlen\u001b[0m\u001b[1;33m(\u001b[0m\u001b[0mout\u001b[0m\u001b[1;33m)\u001b[0m \u001b[1;33m<\u001b[0m \u001b[1;36m1\u001b[0m\u001b[1;33m:\u001b[0m\u001b[1;33m\u001b[0m\u001b[1;33m\u001b[0m\u001b[0m\n",
      "\u001b[1;32mC:\\Anaconda\\lib\\site-packages\\joblib\\parallel.py\u001b[0m in \u001b[0;36m__call__\u001b[1;34m(self, iterable)\u001b[0m\n\u001b[0;32m   1015\u001b[0m \u001b[1;33m\u001b[0m\u001b[0m\n\u001b[0;32m   1016\u001b[0m             \u001b[1;32mwith\u001b[0m \u001b[0mself\u001b[0m\u001b[1;33m.\u001b[0m\u001b[0m_backend\u001b[0m\u001b[1;33m.\u001b[0m\u001b[0mretrieval_context\u001b[0m\u001b[1;33m(\u001b[0m\u001b[1;33m)\u001b[0m\u001b[1;33m:\u001b[0m\u001b[1;33m\u001b[0m\u001b[1;33m\u001b[0m\u001b[0m\n\u001b[1;32m-> 1017\u001b[1;33m                 \u001b[0mself\u001b[0m\u001b[1;33m.\u001b[0m\u001b[0mretrieve\u001b[0m\u001b[1;33m(\u001b[0m\u001b[1;33m)\u001b[0m\u001b[1;33m\u001b[0m\u001b[1;33m\u001b[0m\u001b[0m\n\u001b[0m\u001b[0;32m   1018\u001b[0m             \u001b[1;31m# Make sure that we get a last message telling us we are done\u001b[0m\u001b[1;33m\u001b[0m\u001b[1;33m\u001b[0m\u001b[1;33m\u001b[0m\u001b[0m\n\u001b[0;32m   1019\u001b[0m             \u001b[0melapsed_time\u001b[0m \u001b[1;33m=\u001b[0m \u001b[0mtime\u001b[0m\u001b[1;33m.\u001b[0m\u001b[0mtime\u001b[0m\u001b[1;33m(\u001b[0m\u001b[1;33m)\u001b[0m \u001b[1;33m-\u001b[0m \u001b[0mself\u001b[0m\u001b[1;33m.\u001b[0m\u001b[0m_start_time\u001b[0m\u001b[1;33m\u001b[0m\u001b[1;33m\u001b[0m\u001b[0m\n",
      "\u001b[1;32mC:\\Anaconda\\lib\\site-packages\\joblib\\parallel.py\u001b[0m in \u001b[0;36mretrieve\u001b[1;34m(self)\u001b[0m\n\u001b[0;32m    902\u001b[0m             \u001b[1;31m# we empty it and Python list are not thread-safe by default hence\u001b[0m\u001b[1;33m\u001b[0m\u001b[1;33m\u001b[0m\u001b[1;33m\u001b[0m\u001b[0m\n\u001b[0;32m    903\u001b[0m             \u001b[1;31m# the use of the lock\u001b[0m\u001b[1;33m\u001b[0m\u001b[1;33m\u001b[0m\u001b[1;33m\u001b[0m\u001b[0m\n\u001b[1;32m--> 904\u001b[1;33m             \u001b[1;32mwith\u001b[0m \u001b[0mself\u001b[0m\u001b[1;33m.\u001b[0m\u001b[0m_lock\u001b[0m\u001b[1;33m:\u001b[0m\u001b[1;33m\u001b[0m\u001b[1;33m\u001b[0m\u001b[0m\n\u001b[0m\u001b[0;32m    905\u001b[0m                 \u001b[0mjob\u001b[0m \u001b[1;33m=\u001b[0m \u001b[0mself\u001b[0m\u001b[1;33m.\u001b[0m\u001b[0m_jobs\u001b[0m\u001b[1;33m.\u001b[0m\u001b[0mpop\u001b[0m\u001b[1;33m(\u001b[0m\u001b[1;36m0\u001b[0m\u001b[1;33m)\u001b[0m\u001b[1;33m\u001b[0m\u001b[1;33m\u001b[0m\u001b[0m\n\u001b[0;32m    906\u001b[0m \u001b[1;33m\u001b[0m\u001b[0m\n",
      "\u001b[1;31mKeyboardInterrupt\u001b[0m: "
     ]
    }
   ],
   "source": [
    "model = DecisionTreeClassifier(random_state=20)\n",
    "model_dectree = GridSearchCV(model, dec_trees_param_grid, cv=10, n_jobs = 4, verbose = 1)\n",
    "model_dectree.fit(X_scaled_standard, y)"
   ]
  },
  {
   "cell_type": "code",
   "execution_count": null,
   "metadata": {},
   "outputs": [],
   "source": [
    "model_dectree.best_params_"
   ]
  },
  {
   "cell_type": "code",
   "execution_count": null,
   "metadata": {},
   "outputs": [],
   "source": [
    "model_dectree.best_score_"
   ]
  },
  {
   "cell_type": "code",
   "execution_count": null,
   "metadata": {},
   "outputs": [],
   "source": [
    "model = DecisionTreeClassifier(random_state=20)\n",
    "model_dectree = GridSearchCV(model, dec_trees_param_grid, cv=leave_one_out, n_jobs = 4, verbose = 1)\n",
    "model_dectree.fit(X_scaled_standard, y)"
   ]
  },
  {
   "cell_type": "code",
   "execution_count": null,
   "metadata": {},
   "outputs": [],
   "source": [
    "model_dectree.best_params_"
   ]
  },
  {
   "cell_type": "code",
   "execution_count": null,
   "metadata": {},
   "outputs": [],
   "source": [
    "model_dectree.best_score_"
   ]
  },
  {
   "cell_type": "markdown",
   "metadata": {},
   "source": [
    "### Gradient Boosting"
   ]
  },
  {
   "cell_type": "code",
   "execution_count": null,
   "metadata": {},
   "outputs": [],
   "source": [
    "grad_boost_param_grid = {\n",
    "    'loss' : ['deviance', 'exponential'], 'max_features' : ['auto', 'sqrt', 'log2', None], \n",
    "    'learning_rate' : np.linspace(1.0, 0.0001, 25), 'n_estimators' : np.arange(1,125,5), \n",
    "    'max_depth' : np.arange(1,6)\n",
    "    }"
   ]
  },
  {
   "cell_type": "code",
   "execution_count": null,
   "metadata": {},
   "outputs": [],
   "source": [
    "model = GradientBoostingClassifier(random_state=20)\n",
    "model_gradboost = GridSearchCV(model, grad_boost_param_grid, cv=5, n_jobs = 4, verbose = 1)\n",
    "model_gradboost.fit(X_scaled_standard, y)"
   ]
  },
  {
   "cell_type": "code",
   "execution_count": null,
   "metadata": {},
   "outputs": [],
   "source": [
    "model_gradboost.best_params_"
   ]
  },
  {
   "cell_type": "code",
   "execution_count": null,
   "metadata": {},
   "outputs": [],
   "source": [
    "model_gradboost.best_score_"
   ]
  },
  {
   "cell_type": "code",
   "execution_count": null,
   "metadata": {},
   "outputs": [],
   "source": [
    "model = GradientBoostingClassifier(random_state=20)\n",
    "model_gradboost = GridSearchCV(model, grad_boost_param_grid, cv=10, n_jobs = 4, verbose = 1)\n",
    "model_gradboost.fit(X_scaled_standard, y)"
   ]
  },
  {
   "cell_type": "code",
   "execution_count": null,
   "metadata": {},
   "outputs": [],
   "source": [
    "model_gradboost.best_params_"
   ]
  },
  {
   "cell_type": "code",
   "execution_count": null,
   "metadata": {},
   "outputs": [],
   "source": [
    "model_gradboost.best_score_"
   ]
  },
  {
   "cell_type": "markdown",
   "metadata": {},
   "source": [
    "### SVC"
   ]
  },
  {
   "cell_type": "code",
   "execution_count": null,
   "metadata": {},
   "outputs": [],
   "source": [
    "svc_params = {\n",
    "    'C' : np.linspace(5, 1e-03, 200), 'kernel' : ['linear', 'rbf', 'sigmoid'],\n",
    "    'gamma' : ['scale', 'auto'], 'decision_function_shape' : ['ovr', 'ovo']\n",
    "}"
   ]
  },
  {
   "cell_type": "code",
   "execution_count": null,
   "metadata": {
    "scrolled": true
   },
   "outputs": [],
   "source": [
    "model = SVC(random_state=20)\n",
    "model_svc = GridSearchCV(model, svc_params, cv=5, n_jobs = 4, verbose = 1)\n",
    "model_svc.fit(X_scaled_standard, y)"
   ]
  },
  {
   "cell_type": "code",
   "execution_count": null,
   "metadata": {},
   "outputs": [],
   "source": [
    "model_svc.best_params_"
   ]
  },
  {
   "cell_type": "code",
   "execution_count": null,
   "metadata": {},
   "outputs": [],
   "source": [
    "model_svc.best_score_"
   ]
  },
  {
   "cell_type": "code",
   "execution_count": null,
   "metadata": {},
   "outputs": [],
   "source": [
    "model = SVC(random_state=20)\n",
    "model_svc = GridSearchCV(model, svc_params, cv=10, n_jobs = 4, verbose = 1)\n",
    "model_svc.fit(X_scaled_standard, y)"
   ]
  },
  {
   "cell_type": "code",
   "execution_count": null,
   "metadata": {},
   "outputs": [],
   "source": [
    "model_svc.best_params_"
   ]
  },
  {
   "cell_type": "code",
   "execution_count": null,
   "metadata": {},
   "outputs": [],
   "source": [
    "model_svc.best_score_"
   ]
  },
  {
   "cell_type": "code",
   "execution_count": null,
   "metadata": {},
   "outputs": [],
   "source": [
    "model = SVC(random_state=20)\n",
    "model_svc = GridSearchCV(model, svc_params, cv=leave_one_out, n_jobs = 4, verbose = 1)\n",
    "model_svc.fit(X_scaled_standard, y)"
   ]
  },
  {
   "cell_type": "code",
   "execution_count": null,
   "metadata": {},
   "outputs": [],
   "source": [
    "model_svc.best_params_"
   ]
  },
  {
   "cell_type": "code",
   "execution_count": null,
   "metadata": {},
   "outputs": [],
   "source": [
    "model_svc.best_score_"
   ]
  },
  {
   "cell_type": "markdown",
   "metadata": {},
   "source": [
    "### kNN"
   ]
  },
  {
   "cell_type": "code",
   "execution_count": null,
   "metadata": {},
   "outputs": [],
   "source": [
    "knn_params = {\n",
    "    'leaf_size':range(1,5), 'n_neighbors':range(1,50), \n",
    "    'algorithm' : ['auto'],\n",
    "    'p':[1,2,3,4,5], 'weights' : ['uniform', 'distance' ]\n",
    "}"
   ]
  },
  {
   "cell_type": "code",
   "execution_count": null,
   "metadata": {},
   "outputs": [],
   "source": [
    "knn_model = KNeighborsClassifier(algorithm = 'auto' )\n",
    "model_knn = GridSearchCV(knn_model, knn_params, cv=5, n_jobs = 4, verbose = 1)\n",
    "model_knn.fit(X_scaled_standard, y)"
   ]
  },
  {
   "cell_type": "code",
   "execution_count": null,
   "metadata": {},
   "outputs": [],
   "source": [
    "model_knn.best_params_"
   ]
  },
  {
   "cell_type": "code",
   "execution_count": null,
   "metadata": {},
   "outputs": [],
   "source": [
    "model_knn.best_score_"
   ]
  },
  {
   "cell_type": "code",
   "execution_count": null,
   "metadata": {},
   "outputs": [],
   "source": [
    "knn_model = KNeighborsClassifier(algorithm = 'auto' )\n",
    "model_knn = GridSearchCV(knn_model, knn_params, cv=10, n_jobs = 4, verbose = 1)\n",
    "model_knn.fit(X_scaled_standard, y)"
   ]
  },
  {
   "cell_type": "code",
   "execution_count": null,
   "metadata": {},
   "outputs": [],
   "source": [
    "model_knn.best_params_"
   ]
  },
  {
   "cell_type": "code",
   "execution_count": null,
   "metadata": {},
   "outputs": [],
   "source": [
    "model_knn.best_score_"
   ]
  },
  {
   "cell_type": "code",
   "execution_count": null,
   "metadata": {},
   "outputs": [],
   "source": [
    "knn_model = KNeighborsClassifier(algorithm = 'auto' )\n",
    "model_knn = GridSearchCV(knn_model, knn_params, cv=leave_one_out, n_jobs = 4, verbose = 1)\n",
    "model_knn.fit(X_scaled_standard, y)"
   ]
  },
  {
   "cell_type": "code",
   "execution_count": null,
   "metadata": {},
   "outputs": [],
   "source": [
    "model_knn.best_params_"
   ]
  },
  {
   "cell_type": "code",
   "execution_count": null,
   "metadata": {},
   "outputs": [],
   "source": [
    "model_knn.best_score_"
   ]
  },
  {
   "cell_type": "markdown",
   "metadata": {},
   "source": [
    "### Random Forest"
   ]
  },
  {
   "cell_type": "code",
   "execution_count": null,
   "metadata": {},
   "outputs": [],
   "source": [
    "ran_for_params = {\n",
    "    'n_estimators' : range(1,121),\n",
    "    'criterion': ['gini', 'entropy'],\n",
    "    'max_depth': range(1,20),\n",
    "    'min_samples_leaf': range(1,10),\n",
    "    'min_samples_split': range(1,10),\n",
    "    'bootstrap' : [True, False]\n",
    "}"
   ]
  },
  {
   "cell_type": "code",
   "execution_count": null,
   "metadata": {},
   "outputs": [],
   "source": [
    "random_forest_model = RandomForestClassifier()\n",
    "model_rand_fors = RandomizedSearchCV(random_forest_model, ran_for_params, cv=5, n_iter = 500, n_jobs = 4, verbose = 1)\n",
    "model_rand_fors.fit(X_scaled_standard, y)"
   ]
  },
  {
   "cell_type": "code",
   "execution_count": null,
   "metadata": {},
   "outputs": [],
   "source": [
    "model_rand_fors.best_params_"
   ]
  },
  {
   "cell_type": "code",
   "execution_count": null,
   "metadata": {},
   "outputs": [],
   "source": [
    "model_rand_fors.best_score_"
   ]
  },
  {
   "cell_type": "code",
   "execution_count": null,
   "metadata": {},
   "outputs": [],
   "source": [
    "random_forest_model = RandomForestClassifier()\n",
    "model_rand_fors = RandomizedSearchCV(random_forest_model, ran_for_params, cv=10, n_iter = 1000, n_jobs = 4, verbose = 1)\n",
    "model_rand_fors.fit(X_scaled_standard, y)"
   ]
  },
  {
   "cell_type": "code",
   "execution_count": null,
   "metadata": {},
   "outputs": [],
   "source": [
    "model_rand_fors.best_params_"
   ]
  },
  {
   "cell_type": "code",
   "execution_count": null,
   "metadata": {},
   "outputs": [],
   "source": [
    "model_rand_fors.best_score_"
   ]
  },
  {
   "cell_type": "code",
   "execution_count": null,
   "metadata": {},
   "outputs": [],
   "source": [
    "random_forest_model = RandomForestClassifier()\n",
    "model_rand_fors = RandomizedSearchCV(random_forest_model, ran_for_params, cv=leave_one_out, n_iter = 1500, n_jobs = 4, verbose = 1)\n",
    "model_rand_fors.fit(X_scaled_standard, y)"
   ]
  },
  {
   "cell_type": "code",
   "execution_count": null,
   "metadata": {},
   "outputs": [],
   "source": [
    "model_rand_fors.best_params_"
   ]
  },
  {
   "cell_type": "code",
   "execution_count": null,
   "metadata": {},
   "outputs": [],
   "source": [
    "model_rand_fors.best_score_"
   ]
  },
  {
   "cell_type": "markdown",
   "metadata": {},
   "source": [
    "### Neural Network sklearn"
   ]
  }
 ],
 "metadata": {
  "kernelspec": {
   "display_name": "Python 3",
   "language": "python",
   "name": "python3"
  },
  "language_info": {
   "codemirror_mode": {
    "name": "ipython",
    "version": 3
   },
   "file_extension": ".py",
   "mimetype": "text/x-python",
   "name": "python",
   "nbconvert_exporter": "python",
   "pygments_lexer": "ipython3",
   "version": "3.7.4"
  }
 },
 "nbformat": 4,
 "nbformat_minor": 4
}
