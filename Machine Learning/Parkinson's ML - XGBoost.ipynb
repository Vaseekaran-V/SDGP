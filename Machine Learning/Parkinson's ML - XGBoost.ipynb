{
 "cells": [
  {
   "cell_type": "markdown",
   "metadata": {},
   "source": [
    "### Importing Libraries"
   ]
  },
  {
   "cell_type": "code",
   "execution_count": 1,
   "metadata": {},
   "outputs": [],
   "source": [
    "import pandas as pd\n",
    "import numpy as np\n",
    "import os, sys"
   ]
  },
  {
   "cell_type": "markdown",
   "metadata": {},
   "source": [
    "### Importing the dataset"
   ]
  },
  {
   "cell_type": "code",
   "execution_count": 84,
   "metadata": {},
   "outputs": [
    {
     "data": {
      "text/html": [
       "<div>\n",
       "<style scoped>\n",
       "    .dataframe tbody tr th:only-of-type {\n",
       "        vertical-align: middle;\n",
       "    }\n",
       "\n",
       "    .dataframe tbody tr th {\n",
       "        vertical-align: top;\n",
       "    }\n",
       "\n",
       "    .dataframe thead th {\n",
       "        text-align: right;\n",
       "    }\n",
       "</style>\n",
       "<table border=\"1\" class=\"dataframe\">\n",
       "  <thead>\n",
       "    <tr style=\"text-align: right;\">\n",
       "      <th></th>\n",
       "      <th>Subject Id</th>\n",
       "      <th>Jitter(local)</th>\n",
       "      <th>Jitter(local, absolute)</th>\n",
       "      <th>Jitter (rap)</th>\n",
       "      <th>Jitter (ppq5)</th>\n",
       "      <th>Jitter (ddp)</th>\n",
       "      <th>Shimmer (local)</th>\n",
       "      <th>Shimmer (local, db)</th>\n",
       "      <th>Shimmer (apq3)</th>\n",
       "      <th>Shimmer (apq5)</th>\n",
       "      <th>...</th>\n",
       "      <th>Minimum pitch</th>\n",
       "      <th>Maximum pitch</th>\n",
       "      <th>Number of pulses</th>\n",
       "      <th>Number of periods</th>\n",
       "      <th>Mean period</th>\n",
       "      <th>Standard deviation of period</th>\n",
       "      <th>Fraction of locally unvoiced frames</th>\n",
       "      <th>Number of voice breaks</th>\n",
       "      <th>Degree of voice breaks</th>\n",
       "      <th>Class information</th>\n",
       "    </tr>\n",
       "  </thead>\n",
       "  <tbody>\n",
       "    <tr>\n",
       "      <th>0</th>\n",
       "      <td>1</td>\n",
       "      <td>1.488</td>\n",
       "      <td>0.000090</td>\n",
       "      <td>0.900</td>\n",
       "      <td>0.794</td>\n",
       "      <td>2.699</td>\n",
       "      <td>8.334</td>\n",
       "      <td>0.779</td>\n",
       "      <td>4.517</td>\n",
       "      <td>4.609</td>\n",
       "      <td>...</td>\n",
       "      <td>142.229</td>\n",
       "      <td>187.576</td>\n",
       "      <td>160</td>\n",
       "      <td>159</td>\n",
       "      <td>0.006065</td>\n",
       "      <td>0.000416</td>\n",
       "      <td>0.000</td>\n",
       "      <td>0</td>\n",
       "      <td>0.000</td>\n",
       "      <td>1</td>\n",
       "    </tr>\n",
       "    <tr>\n",
       "      <th>1</th>\n",
       "      <td>1</td>\n",
       "      <td>0.728</td>\n",
       "      <td>0.000038</td>\n",
       "      <td>0.353</td>\n",
       "      <td>0.376</td>\n",
       "      <td>1.059</td>\n",
       "      <td>5.864</td>\n",
       "      <td>0.642</td>\n",
       "      <td>2.058</td>\n",
       "      <td>3.180</td>\n",
       "      <td>...</td>\n",
       "      <td>159.515</td>\n",
       "      <td>234.505</td>\n",
       "      <td>170</td>\n",
       "      <td>169</td>\n",
       "      <td>0.005181</td>\n",
       "      <td>0.000403</td>\n",
       "      <td>2.247</td>\n",
       "      <td>0</td>\n",
       "      <td>0.000</td>\n",
       "      <td>1</td>\n",
       "    </tr>\n",
       "    <tr>\n",
       "      <th>2</th>\n",
       "      <td>1</td>\n",
       "      <td>1.220</td>\n",
       "      <td>0.000074</td>\n",
       "      <td>0.732</td>\n",
       "      <td>0.670</td>\n",
       "      <td>2.196</td>\n",
       "      <td>8.719</td>\n",
       "      <td>0.875</td>\n",
       "      <td>4.347</td>\n",
       "      <td>5.166</td>\n",
       "      <td>...</td>\n",
       "      <td>146.445</td>\n",
       "      <td>211.442</td>\n",
       "      <td>1431</td>\n",
       "      <td>1427</td>\n",
       "      <td>0.006071</td>\n",
       "      <td>0.000474</td>\n",
       "      <td>10.656</td>\n",
       "      <td>1</td>\n",
       "      <td>0.178</td>\n",
       "      <td>1</td>\n",
       "    </tr>\n",
       "    <tr>\n",
       "      <th>3</th>\n",
       "      <td>1</td>\n",
       "      <td>2.502</td>\n",
       "      <td>0.000123</td>\n",
       "      <td>1.156</td>\n",
       "      <td>1.634</td>\n",
       "      <td>3.469</td>\n",
       "      <td>13.513</td>\n",
       "      <td>1.273</td>\n",
       "      <td>5.263</td>\n",
       "      <td>8.771</td>\n",
       "      <td>...</td>\n",
       "      <td>182.713</td>\n",
       "      <td>220.230</td>\n",
       "      <td>94</td>\n",
       "      <td>92</td>\n",
       "      <td>0.004910</td>\n",
       "      <td>0.000320</td>\n",
       "      <td>0.000</td>\n",
       "      <td>0</td>\n",
       "      <td>0.000</td>\n",
       "      <td>1</td>\n",
       "    </tr>\n",
       "    <tr>\n",
       "      <th>4</th>\n",
       "      <td>1</td>\n",
       "      <td>3.509</td>\n",
       "      <td>0.000167</td>\n",
       "      <td>1.715</td>\n",
       "      <td>1.539</td>\n",
       "      <td>5.145</td>\n",
       "      <td>9.112</td>\n",
       "      <td>1.040</td>\n",
       "      <td>3.102</td>\n",
       "      <td>4.927</td>\n",
       "      <td>...</td>\n",
       "      <td>182.821</td>\n",
       "      <td>225.162</td>\n",
       "      <td>117</td>\n",
       "      <td>114</td>\n",
       "      <td>0.004757</td>\n",
       "      <td>0.000380</td>\n",
       "      <td>18.182</td>\n",
       "      <td>1</td>\n",
       "      <td>13.318</td>\n",
       "      <td>1</td>\n",
       "    </tr>\n",
       "  </tbody>\n",
       "</table>\n",
       "<p>5 rows × 28 columns</p>\n",
       "</div>"
      ],
      "text/plain": [
       "   Subject Id  Jitter(local)  Jitter(local, absolute)  Jitter (rap)  \\\n",
       "0           1          1.488                 0.000090         0.900   \n",
       "1           1          0.728                 0.000038         0.353   \n",
       "2           1          1.220                 0.000074         0.732   \n",
       "3           1          2.502                 0.000123         1.156   \n",
       "4           1          3.509                 0.000167         1.715   \n",
       "\n",
       "   Jitter (ppq5)  Jitter (ddp)  Shimmer (local)  Shimmer (local, db)  \\\n",
       "0          0.794         2.699            8.334                0.779   \n",
       "1          0.376         1.059            5.864                0.642   \n",
       "2          0.670         2.196            8.719                0.875   \n",
       "3          1.634         3.469           13.513                1.273   \n",
       "4          1.539         5.145            9.112                1.040   \n",
       "\n",
       "   Shimmer (apq3)  Shimmer (apq5)  ...  Minimum pitch  Maximum pitch  \\\n",
       "0           4.517           4.609  ...        142.229        187.576   \n",
       "1           2.058           3.180  ...        159.515        234.505   \n",
       "2           4.347           5.166  ...        146.445        211.442   \n",
       "3           5.263           8.771  ...        182.713        220.230   \n",
       "4           3.102           4.927  ...        182.821        225.162   \n",
       "\n",
       "   Number of pulses  Number of periods  Mean period  \\\n",
       "0               160                159     0.006065   \n",
       "1               170                169     0.005181   \n",
       "2              1431               1427     0.006071   \n",
       "3                94                 92     0.004910   \n",
       "4               117                114     0.004757   \n",
       "\n",
       "   Standard deviation of period  Fraction of locally unvoiced frames  \\\n",
       "0                      0.000416                                0.000   \n",
       "1                      0.000403                                2.247   \n",
       "2                      0.000474                               10.656   \n",
       "3                      0.000320                                0.000   \n",
       "4                      0.000380                               18.182   \n",
       "\n",
       "   Number of voice breaks  Degree of voice breaks  Class information  \n",
       "0                       0                   0.000                  1  \n",
       "1                       0                   0.000                  1  \n",
       "2                       1                   0.178                  1  \n",
       "3                       0                   0.000                  1  \n",
       "4                       1                  13.318                  1  \n",
       "\n",
       "[5 rows x 28 columns]"
      ]
     },
     "execution_count": 84,
     "metadata": {},
     "output_type": "execute_result"
    }
   ],
   "source": [
    "data = pd.read_csv(r'Parkinsons Train Data.csv', header=0)\n",
    "data.head()"
   ]
  },
  {
   "cell_type": "code",
   "execution_count": null,
   "metadata": {},
   "outputs": [],
   "source": []
  },
  {
   "cell_type": "markdown",
   "metadata": {},
   "source": [
    "### Seperating the X and Y variables"
   ]
  },
  {
   "cell_type": "code",
   "execution_count": 85,
   "metadata": {},
   "outputs": [],
   "source": [
    "features = data.loc[:, data.columns != 'Class information'].values[:, 1:]\n",
    "labels = data.loc[:, 'Class information'].values"
   ]
  },
  {
   "cell_type": "code",
   "execution_count": 87,
   "metadata": {},
   "outputs": [
    {
     "data": {
      "text/plain": [
       "(520, 520)"
      ]
     },
     "execution_count": 87,
     "metadata": {},
     "output_type": "execute_result"
    }
   ],
   "source": [
    "labels[labels == 1].shape[0], labels[labels == 0].shape[0]"
   ]
  },
  {
   "cell_type": "code",
   "execution_count": 86,
   "metadata": {},
   "outputs": [
    {
     "name": "stdout",
     "output_type": "stream",
     "text": [
      "['Subject Id' 'Jitter(local)' 'Jitter(local, absolute)' 'Jitter (rap)'\n",
      " 'Jitter (ppq5)' 'Jitter (ddp)' 'Shimmer (local)' 'Shimmer (local, db)'\n",
      " 'Shimmer (apq3)' 'Shimmer (apq5)' 'Shimmer (apq11)' 'Shimmer (dda)' 'AC'\n",
      " 'NDH' 'HTM' 'Median Pitch' 'Mean Pitch' 'Standard deviation'\n",
      " 'Minimum pitch' 'Maximum pitch' 'Number of pulses' 'Number of periods'\n",
      " 'Mean period' 'Standard deviation of period'\n",
      " 'Fraction of locally unvoiced frames' 'Number of voice breaks'\n",
      " 'Degree of voice breaks' 'Class information']\n"
     ]
    }
   ],
   "source": [
    "print(data.columns.values)"
   ]
  },
  {
   "cell_type": "markdown",
   "metadata": {},
   "source": [
    "### Feature Selection"
   ]
  },
  {
   "cell_type": "code",
   "execution_count": 88,
   "metadata": {},
   "outputs": [
    {
     "name": "stdout",
     "output_type": "stream",
     "text": [
      "[False  True  True  True False  True False False  True  True False  True\n",
      " False  True  True False  True  True  True False False False False  True\n",
      " False False]\n",
      "[ 2  1  1  1 10  1 11  8  1  1 14  1 12  1  1  3  1  1  1  7  5  9  4  1\n",
      " 13  6]\n"
     ]
    }
   ],
   "source": [
    "#analyzing the variables that won't affect the model\n",
    "from sklearn import datasets\n",
    "from sklearn.feature_selection import RFE\n",
    "from xgboost import XGBClassifier\n",
    "from sklearn.model_selection import train_test_split\n",
    "from sklearn.metrics import accuracy_score\n",
    "\n",
    "xgBoost = XGBClassifier()\n",
    "\n",
    "rfe = RFE(xgBoost)\n",
    "rfe = rfe.fit(features, labels)\n",
    "print(rfe.support_)\n",
    "print(rfe.ranking_)"
   ]
  },
  {
   "cell_type": "markdown",
   "metadata": {},
   "source": [
    "### Function to calculate XGBoost"
   ]
  },
  {
   "cell_type": "code",
   "execution_count": 89,
   "metadata": {},
   "outputs": [],
   "source": [
    "def getXGBoost(X, y):\n",
    "    from xgboost import XGBClassifier\n",
    "    from sklearn.model_selection import train_test_split\n",
    "    from sklearn.metrics import accuracy_score\n",
    "    X_train, X_test, Y_train, Y_test = train_test_split(X, y, random_state=66, test_size = 0.05, stratify = data['Class information'])\n",
    "    # Train\n",
    "    model = XGBClassifier()\n",
    "    model.fit(X_train, Y_train)\n",
    "    \n",
    "    # Evaluate\n",
    "    Y_hat = [round(yhat) for yhat in model.predict(X_test)]\n",
    "    print(\"Accuracy for test set -> \", end = \"\")\n",
    "    print(accuracy_score(Y_test, Y_hat)) # Test set accuracy\n",
    "    print(\"Accuracy for training set -> \", end = \"\")\n",
    "    Y_hat = [round(yhat) for yhat in model.predict(X)]\n",
    "    print(accuracy_score(y, Y_hat)) # Full set accuracy"
   ]
  },
  {
   "cell_type": "markdown",
   "metadata": {},
   "source": [
    "### Training the model with all the features"
   ]
  },
  {
   "cell_type": "code",
   "execution_count": 90,
   "metadata": {},
   "outputs": [
    {
     "name": "stdout",
     "output_type": "stream",
     "text": [
      "Accuracy for test set -> 0.8653846153846154\n",
      "Accuracy for training set -> 0.8923076923076924\n"
     ]
    }
   ],
   "source": [
    "getXGBoost(features, labels)"
   ]
  },
  {
   "cell_type": "markdown",
   "metadata": {},
   "source": [
    "### Training the model with RFE features"
   ]
  },
  {
   "cell_type": "code",
   "execution_count": 93,
   "metadata": {},
   "outputs": [
    {
     "name": "stdout",
     "output_type": "stream",
     "text": [
      "Accuracy for test set -> 0.8461538461538461\n",
      "Accuracy for training set -> 0.885576923076923\n"
     ]
    }
   ],
   "source": [
    "cols_RFE = ['Jitter(local, absolute)', 'Jitter (rap)', 'Jitter (ppq5)', 'Shimmer (local)',\n",
    "        'Shimmer (apq5)', 'Shimmer (apq11)', 'AC', 'HTM', 'Median Pitch', 'Standard deviation',\n",
    "        'Minimum pitch' , 'Maximum pitch', 'Fraction of locally unvoiced frames' ]\n",
    "X = data[cols_RFE]\n",
    "getXGBoost(X, y)"
   ]
  },
  {
   "cell_type": "markdown",
   "metadata": {},
   "source": [
    "### Training and finding the best models (Features chosen pairwise)"
   ]
  },
  {
   "cell_type": "code",
   "execution_count": 91,
   "metadata": {},
   "outputs": [],
   "source": [
    "y = data['Class information']\n",
    "cols_1 = ['Jitter(local)','Shimmer (local)','AC', 'NDH', 'HTM',\n",
    "       'Median Pitch', 'Mean Pitch', 'Standard deviation',\n",
    "       'Minimum pitch', 'Maximum pitch', 'Number of pulses',\n",
    "       'Number of periods', 'Mean period', 'Standard deviation of period',\n",
    "       'Fraction of locally unvoiced frames', 'Number of voice breaks',\n",
    "       'Degree of voice breaks']\n",
    "X = data[cols_1]"
   ]
  },
  {
   "cell_type": "code",
   "execution_count": 8,
   "metadata": {},
   "outputs": [
    {
     "name": "stdout",
     "output_type": "stream",
     "text": [
      "Accuracy for test set -> 0.7692307692307693\n",
      "Accuracy for training set -> 0.8740384615384615\n"
     ]
    }
   ],
   "source": [
    "getXGBoost(X, y)"
   ]
  },
  {
   "cell_type": "code",
   "execution_count": 9,
   "metadata": {},
   "outputs": [],
   "source": [
    "cols_2 = ['Jitter(local)','Shimmer (local, db)','AC', 'NDH', 'HTM',\n",
    "       'Median Pitch', 'Mean Pitch', 'Standard deviation',\n",
    "       'Minimum pitch', 'Maximum pitch', 'Number of pulses',\n",
    "       'Number of periods', 'Mean period', 'Standard deviation of period',\n",
    "       'Fraction of locally unvoiced frames', 'Number of voice breaks',\n",
    "       'Degree of voice breaks']\n",
    "X = data[cols_2]"
   ]
  },
  {
   "cell_type": "code",
   "execution_count": 10,
   "metadata": {},
   "outputs": [
    {
     "name": "stdout",
     "output_type": "stream",
     "text": [
      "Accuracy for test set -> 0.7884615384615384\n",
      "Accuracy for training set -> 0.864423076923077\n"
     ]
    }
   ],
   "source": [
    "getXGBoost(X, y)"
   ]
  },
  {
   "cell_type": "code",
   "execution_count": 11,
   "metadata": {},
   "outputs": [],
   "source": [
    "cols_3 = ['Jitter(local)','Shimmer (apq3)','AC', 'NDH', 'HTM',\n",
    "       'Median Pitch', 'Mean Pitch', 'Standard deviation',\n",
    "       'Minimum pitch', 'Maximum pitch', 'Number of pulses',\n",
    "       'Number of periods', 'Mean period', 'Standard deviation of period',\n",
    "       'Fraction of locally unvoiced frames', 'Number of voice breaks',\n",
    "       'Degree of voice breaks']\n",
    "X = data[cols_3]"
   ]
  },
  {
   "cell_type": "code",
   "execution_count": 12,
   "metadata": {},
   "outputs": [
    {
     "name": "stdout",
     "output_type": "stream",
     "text": [
      "Accuracy for test set -> 0.7692307692307693\n",
      "Accuracy for training set -> 0.8634615384615385\n"
     ]
    }
   ],
   "source": [
    "getXGBoost(X, y)"
   ]
  },
  {
   "cell_type": "code",
   "execution_count": 13,
   "metadata": {},
   "outputs": [],
   "source": [
    "cols_4 = ['Jitter(local)','Shimmer (apq5)','AC', 'NDH', 'HTM',\n",
    "       'Median Pitch', 'Mean Pitch', 'Standard deviation',\n",
    "       'Minimum pitch', 'Maximum pitch', 'Number of pulses',\n",
    "       'Number of periods', 'Mean period', 'Standard deviation of period',\n",
    "       'Fraction of locally unvoiced frames', 'Number of voice breaks',\n",
    "       'Degree of voice breaks']\n",
    "X = data[cols_4]"
   ]
  },
  {
   "cell_type": "code",
   "execution_count": 14,
   "metadata": {},
   "outputs": [
    {
     "name": "stdout",
     "output_type": "stream",
     "text": [
      "Accuracy for test set -> 0.7307692307692307\n",
      "Accuracy for training set -> 0.8721153846153846\n"
     ]
    }
   ],
   "source": [
    "getXGBoost(X, y)"
   ]
  },
  {
   "cell_type": "code",
   "execution_count": 15,
   "metadata": {},
   "outputs": [],
   "source": [
    "cols_5 = ['Jitter(local)','Shimmer (apq11)','AC', 'NDH', 'HTM',\n",
    "       'Median Pitch', 'Mean Pitch', 'Standard deviation',\n",
    "       'Minimum pitch', 'Maximum pitch', 'Number of pulses',\n",
    "       'Number of periods', 'Mean period', 'Standard deviation of period',\n",
    "       'Fraction of locally unvoiced frames', 'Number of voice breaks',\n",
    "       'Degree of voice breaks']\n",
    "X = data[cols_5]"
   ]
  },
  {
   "cell_type": "code",
   "execution_count": 16,
   "metadata": {},
   "outputs": [
    {
     "name": "stdout",
     "output_type": "stream",
     "text": [
      "Accuracy for test set -> 0.8269230769230769\n",
      "Accuracy for training set -> 0.8798076923076923\n"
     ]
    }
   ],
   "source": [
    "getXGBoost(X, y)"
   ]
  },
  {
   "cell_type": "code",
   "execution_count": 17,
   "metadata": {},
   "outputs": [],
   "source": [
    "cols_6 = ['Jitter(local)','Shimmer (dda)','AC', 'NDH', 'HTM',\n",
    "       'Median Pitch', 'Mean Pitch', 'Standard deviation',\n",
    "       'Minimum pitch', 'Maximum pitch', 'Number of pulses',\n",
    "       'Number of periods', 'Mean period', 'Standard deviation of period',\n",
    "       'Fraction of locally unvoiced frames', 'Number of voice breaks',\n",
    "       'Degree of voice breaks']\n",
    "X = data[cols_6]"
   ]
  },
  {
   "cell_type": "code",
   "execution_count": 18,
   "metadata": {},
   "outputs": [
    {
     "name": "stdout",
     "output_type": "stream",
     "text": [
      "Accuracy for test set -> 0.7692307692307693\n",
      "Accuracy for training set -> 0.8634615384615385\n"
     ]
    }
   ],
   "source": [
    "getXGBoost(X, y)"
   ]
  },
  {
   "cell_type": "code",
   "execution_count": 19,
   "metadata": {},
   "outputs": [],
   "source": [
    "cols_7 = ['Jitter(local, absolute)','Shimmer (local)','AC', 'NDH', 'HTM',\n",
    "       'Median Pitch', 'Mean Pitch', 'Standard deviation',\n",
    "       'Minimum pitch', 'Maximum pitch', 'Number of pulses',\n",
    "       'Number of periods', 'Mean period', 'Standard deviation of period',\n",
    "       'Fraction of locally unvoiced frames', 'Number of voice breaks',\n",
    "       'Degree of voice breaks']\n",
    "X = data[cols_7]"
   ]
  },
  {
   "cell_type": "code",
   "execution_count": 20,
   "metadata": {},
   "outputs": [
    {
     "name": "stdout",
     "output_type": "stream",
     "text": [
      "Accuracy for test set -> 0.8076923076923077\n",
      "Accuracy for training set -> 0.8807692307692307\n"
     ]
    }
   ],
   "source": [
    "getXGBoost(X, y)"
   ]
  },
  {
   "cell_type": "code",
   "execution_count": 21,
   "metadata": {},
   "outputs": [],
   "source": [
    "cols_8 = ['Jitter(local, absolute)','Shimmer (local, db)','AC', 'NDH', 'HTM',\n",
    "       'Median Pitch', 'Mean Pitch', 'Standard deviation',\n",
    "       'Minimum pitch', 'Maximum pitch', 'Number of pulses',\n",
    "       'Number of periods', 'Mean period', 'Standard deviation of period',\n",
    "       'Fraction of locally unvoiced frames', 'Number of voice breaks',\n",
    "       'Degree of voice breaks']\n",
    "X = data[cols_8]"
   ]
  },
  {
   "cell_type": "code",
   "execution_count": 22,
   "metadata": {},
   "outputs": [
    {
     "name": "stdout",
     "output_type": "stream",
     "text": [
      "Accuracy for test set -> 0.7307692307692307\n",
      "Accuracy for training set -> 0.8663461538461539\n"
     ]
    }
   ],
   "source": [
    "getXGBoost(X, y)"
   ]
  },
  {
   "cell_type": "code",
   "execution_count": 23,
   "metadata": {},
   "outputs": [],
   "source": [
    "cols_9 = ['Jitter(local, absolute)','Shimmer (apq3)','AC', 'NDH', 'HTM',\n",
    "       'Median Pitch', 'Mean Pitch', 'Standard deviation',\n",
    "       'Minimum pitch', 'Maximum pitch', 'Number of pulses',\n",
    "       'Number of periods', 'Mean period', 'Standard deviation of period',\n",
    "       'Fraction of locally unvoiced frames', 'Number of voice breaks',\n",
    "       'Degree of voice breaks']\n",
    "X = data[cols_9]"
   ]
  },
  {
   "cell_type": "code",
   "execution_count": 24,
   "metadata": {},
   "outputs": [
    {
     "name": "stdout",
     "output_type": "stream",
     "text": [
      "Accuracy for test set -> 0.75\n",
      "Accuracy for training set -> 0.8663461538461539\n"
     ]
    }
   ],
   "source": [
    "getXGBoost(X, y)"
   ]
  },
  {
   "cell_type": "code",
   "execution_count": 25,
   "metadata": {},
   "outputs": [],
   "source": [
    "cols_10 = ['Jitter(local, absolute)','Shimmer (apq5)','AC', 'NDH', 'HTM',\n",
    "       'Median Pitch', 'Mean Pitch', 'Standard deviation',\n",
    "       'Minimum pitch', 'Maximum pitch', 'Number of pulses',\n",
    "       'Number of periods', 'Mean period', 'Standard deviation of period',\n",
    "       'Fraction of locally unvoiced frames', 'Number of voice breaks',\n",
    "       'Degree of voice breaks']\n",
    "X = data[cols_10]"
   ]
  },
  {
   "cell_type": "code",
   "execution_count": 26,
   "metadata": {},
   "outputs": [
    {
     "name": "stdout",
     "output_type": "stream",
     "text": [
      "Accuracy for test set -> 0.7692307692307693\n",
      "Accuracy for training set -> 0.8682692307692308\n"
     ]
    }
   ],
   "source": [
    "getXGBoost(X, y)"
   ]
  },
  {
   "cell_type": "code",
   "execution_count": 27,
   "metadata": {},
   "outputs": [],
   "source": [
    "cols_11 = ['Jitter(local, absolute)','Shimmer (apq11)','AC', 'NDH', 'HTM',\n",
    "       'Median Pitch', 'Mean Pitch', 'Standard deviation',\n",
    "       'Minimum pitch', 'Maximum pitch', 'Number of pulses',\n",
    "       'Number of periods', 'Mean period', 'Standard deviation of period',\n",
    "       'Fraction of locally unvoiced frames', 'Number of voice breaks',\n",
    "       'Degree of voice breaks']\n",
    "X = data[cols_11]"
   ]
  },
  {
   "cell_type": "code",
   "execution_count": 28,
   "metadata": {},
   "outputs": [
    {
     "name": "stdout",
     "output_type": "stream",
     "text": [
      "Accuracy for test set -> 0.7884615384615384\n",
      "Accuracy for training set -> 0.8721153846153846\n"
     ]
    }
   ],
   "source": [
    "getXGBoost(X, y)"
   ]
  },
  {
   "cell_type": "code",
   "execution_count": 29,
   "metadata": {},
   "outputs": [],
   "source": [
    "cols_12 = ['Jitter(local, absolute)','Shimmer (dda)','AC', 'NDH', 'HTM',\n",
    "       'Median Pitch', 'Mean Pitch', 'Standard deviation',\n",
    "       'Minimum pitch', 'Maximum pitch', 'Number of pulses',\n",
    "       'Number of periods', 'Mean period', 'Standard deviation of period',\n",
    "       'Fraction of locally unvoiced frames', 'Number of voice breaks',\n",
    "       'Degree of voice breaks']\n",
    "X = data[cols_12]"
   ]
  },
  {
   "cell_type": "code",
   "execution_count": 30,
   "metadata": {},
   "outputs": [
    {
     "name": "stdout",
     "output_type": "stream",
     "text": [
      "Accuracy for test set -> 0.75\n",
      "Accuracy for training set -> 0.8663461538461539\n"
     ]
    }
   ],
   "source": [
    "getXGBoost(X, y)"
   ]
  },
  {
   "cell_type": "code",
   "execution_count": 31,
   "metadata": {},
   "outputs": [],
   "source": [
    "cols_13 = ['Jitter (rap)','Shimmer (local)','AC', 'NDH', 'HTM',\n",
    "       'Median Pitch', 'Mean Pitch', 'Standard deviation',\n",
    "       'Minimum pitch', 'Maximum pitch', 'Number of pulses',\n",
    "       'Number of periods', 'Mean period', 'Standard deviation of period',\n",
    "       'Fraction of locally unvoiced frames', 'Number of voice breaks',\n",
    "       'Degree of voice breaks']\n",
    "X = data[cols_13]"
   ]
  },
  {
   "cell_type": "code",
   "execution_count": 32,
   "metadata": {},
   "outputs": [
    {
     "name": "stdout",
     "output_type": "stream",
     "text": [
      "Accuracy for test set -> 0.8269230769230769\n",
      "Accuracy for training set -> 0.8769230769230769\n"
     ]
    }
   ],
   "source": [
    "getXGBoost(X, y)"
   ]
  },
  {
   "cell_type": "code",
   "execution_count": 33,
   "metadata": {},
   "outputs": [],
   "source": [
    "cols_14 = ['Jitter (rap)','Shimmer (local, db)','AC', 'NDH', 'HTM',\n",
    "       'Median Pitch', 'Mean Pitch', 'Standard deviation',\n",
    "       'Minimum pitch', 'Maximum pitch', 'Number of pulses',\n",
    "       'Number of periods', 'Mean period', 'Standard deviation of period',\n",
    "       'Fraction of locally unvoiced frames', 'Number of voice breaks',\n",
    "       'Degree of voice breaks']\n",
    "X = data[cols_14]"
   ]
  },
  {
   "cell_type": "code",
   "execution_count": 34,
   "metadata": {},
   "outputs": [
    {
     "name": "stdout",
     "output_type": "stream",
     "text": [
      "Accuracy for test set -> 0.8846153846153846\n",
      "Accuracy for training set -> 0.8673076923076923\n"
     ]
    }
   ],
   "source": [
    "getXGBoost(X, y)"
   ]
  },
  {
   "cell_type": "code",
   "execution_count": 35,
   "metadata": {},
   "outputs": [],
   "source": [
    "cols_15 = ['Jitter (rap)','Shimmer (apq3)','AC', 'NDH', 'HTM',\n",
    "       'Median Pitch', 'Mean Pitch', 'Standard deviation',\n",
    "       'Minimum pitch', 'Maximum pitch', 'Number of pulses',\n",
    "       'Number of periods', 'Mean period', 'Standard deviation of period',\n",
    "       'Fraction of locally unvoiced frames', 'Number of voice breaks',\n",
    "       'Degree of voice breaks']\n",
    "X = data[cols_15]"
   ]
  },
  {
   "cell_type": "code",
   "execution_count": 36,
   "metadata": {},
   "outputs": [
    {
     "name": "stdout",
     "output_type": "stream",
     "text": [
      "Accuracy for test set -> 0.7884615384615384\n",
      "Accuracy for training set -> 0.8682692307692308\n"
     ]
    }
   ],
   "source": [
    "getXGBoost(X, y)"
   ]
  },
  {
   "cell_type": "code",
   "execution_count": 37,
   "metadata": {},
   "outputs": [],
   "source": [
    "cols_16 = ['Jitter (rap)','Shimmer (apq5)','AC', 'NDH', 'HTM',\n",
    "       'Median Pitch', 'Mean Pitch', 'Standard deviation',\n",
    "       'Minimum pitch', 'Maximum pitch', 'Number of pulses',\n",
    "       'Number of periods', 'Mean period', 'Standard deviation of period',\n",
    "       'Fraction of locally unvoiced frames', 'Number of voice breaks',\n",
    "       'Degree of voice breaks']\n",
    "X = data[cols_16]"
   ]
  },
  {
   "cell_type": "code",
   "execution_count": 38,
   "metadata": {},
   "outputs": [
    {
     "name": "stdout",
     "output_type": "stream",
     "text": [
      "Accuracy for test set -> 0.75\n",
      "Accuracy for training set -> 0.8692307692307693\n"
     ]
    }
   ],
   "source": [
    "getXGBoost(X, y)"
   ]
  },
  {
   "cell_type": "code",
   "execution_count": 39,
   "metadata": {},
   "outputs": [],
   "source": [
    "cols_17 = ['Jitter (rap)','Shimmer (apq11)','AC', 'NDH', 'HTM',\n",
    "       'Median Pitch', 'Mean Pitch', 'Standard deviation',\n",
    "       'Minimum pitch', 'Maximum pitch', 'Number of pulses',\n",
    "       'Number of periods', 'Mean period', 'Standard deviation of period',\n",
    "       'Fraction of locally unvoiced frames', 'Number of voice breaks',\n",
    "       'Degree of voice breaks']\n",
    "X = data[cols_17]"
   ]
  },
  {
   "cell_type": "code",
   "execution_count": 40,
   "metadata": {},
   "outputs": [
    {
     "name": "stdout",
     "output_type": "stream",
     "text": [
      "Accuracy for test set -> 0.8653846153846154\n",
      "Accuracy for training set -> 0.8721153846153846\n"
     ]
    }
   ],
   "source": [
    "getXGBoost(X, y)"
   ]
  },
  {
   "cell_type": "code",
   "execution_count": 41,
   "metadata": {},
   "outputs": [],
   "source": [
    "cols_18 = ['Jitter (rap)','Shimmer (dda)','AC', 'NDH', 'HTM',\n",
    "       'Median Pitch', 'Mean Pitch', 'Standard deviation',\n",
    "       'Minimum pitch', 'Maximum pitch', 'Number of pulses',\n",
    "       'Number of periods', 'Mean period', 'Standard deviation of period',\n",
    "       'Fraction of locally unvoiced frames', 'Number of voice breaks',\n",
    "       'Degree of voice breaks']\n",
    "X = data[cols_18]"
   ]
  },
  {
   "cell_type": "code",
   "execution_count": 42,
   "metadata": {},
   "outputs": [
    {
     "name": "stdout",
     "output_type": "stream",
     "text": [
      "Accuracy for test set -> 0.7884615384615384\n",
      "Accuracy for training set -> 0.8682692307692308\n"
     ]
    }
   ],
   "source": [
    "getXGBoost(X, y)"
   ]
  },
  {
   "cell_type": "code",
   "execution_count": 43,
   "metadata": {},
   "outputs": [],
   "source": [
    "cols_19 = ['Jitter (ppq5)','Shimmer (local)','AC', 'NDH', 'HTM',\n",
    "       'Median Pitch', 'Mean Pitch', 'Standard deviation',\n",
    "       'Minimum pitch', 'Maximum pitch', 'Number of pulses',\n",
    "       'Number of periods', 'Mean period', 'Standard deviation of period',\n",
    "       'Fraction of locally unvoiced frames', 'Number of voice breaks',\n",
    "       'Degree of voice breaks']\n",
    "X = data[cols_19]"
   ]
  },
  {
   "cell_type": "code",
   "execution_count": 44,
   "metadata": {},
   "outputs": [
    {
     "name": "stdout",
     "output_type": "stream",
     "text": [
      "Accuracy for test set -> 0.7692307692307693\n",
      "Accuracy for training set -> 0.8625\n"
     ]
    }
   ],
   "source": [
    "getXGBoost(X, y)"
   ]
  },
  {
   "cell_type": "code",
   "execution_count": 45,
   "metadata": {},
   "outputs": [],
   "source": [
    "cols_20 = ['Jitter (ppq5)','Shimmer (local, db)','AC', 'NDH', 'HTM',\n",
    "       'Median Pitch', 'Mean Pitch', 'Standard deviation',\n",
    "       'Minimum pitch', 'Maximum pitch', 'Number of pulses',\n",
    "       'Number of periods', 'Mean period', 'Standard deviation of period',\n",
    "       'Fraction of locally unvoiced frames', 'Number of voice breaks',\n",
    "       'Degree of voice breaks']\n",
    "X = data[cols_20]"
   ]
  },
  {
   "cell_type": "code",
   "execution_count": 46,
   "metadata": {},
   "outputs": [
    {
     "name": "stdout",
     "output_type": "stream",
     "text": [
      "Accuracy for test set -> 0.8076923076923077\n",
      "Accuracy for training set -> 0.8615384615384616\n"
     ]
    }
   ],
   "source": [
    "getXGBoost(X, y)"
   ]
  },
  {
   "cell_type": "code",
   "execution_count": 47,
   "metadata": {},
   "outputs": [],
   "source": [
    "cols_21 = ['Jitter (ppq5)','Shimmer (apq3)','AC', 'NDH', 'HTM',\n",
    "       'Median Pitch', 'Mean Pitch', 'Standard deviation',\n",
    "       'Minimum pitch', 'Maximum pitch', 'Number of pulses',\n",
    "       'Number of periods', 'Mean period', 'Standard deviation of period',\n",
    "       'Fraction of locally unvoiced frames', 'Number of voice breaks',\n",
    "       'Degree of voice breaks']\n",
    "X = data[cols_21]"
   ]
  },
  {
   "cell_type": "code",
   "execution_count": 48,
   "metadata": {},
   "outputs": [
    {
     "name": "stdout",
     "output_type": "stream",
     "text": [
      "Accuracy for test set -> 0.7884615384615384\n",
      "Accuracy for training set -> 0.8625\n"
     ]
    }
   ],
   "source": [
    "getXGBoost(X, y)"
   ]
  },
  {
   "cell_type": "code",
   "execution_count": 49,
   "metadata": {},
   "outputs": [],
   "source": [
    "cols_22 = ['Jitter (ppq5)','Shimmer (apq5)','AC', 'NDH', 'HTM',\n",
    "       'Median Pitch', 'Mean Pitch', 'Standard deviation',\n",
    "       'Minimum pitch', 'Maximum pitch', 'Number of pulses',\n",
    "       'Number of periods', 'Mean period', 'Standard deviation of period',\n",
    "       'Fraction of locally unvoiced frames', 'Number of voice breaks',\n",
    "       'Degree of voice breaks']\n",
    "X = data[cols_22]"
   ]
  },
  {
   "cell_type": "code",
   "execution_count": 50,
   "metadata": {},
   "outputs": [
    {
     "name": "stdout",
     "output_type": "stream",
     "text": [
      "Accuracy for test set -> 0.7884615384615384\n",
      "Accuracy for training set -> 0.8721153846153846\n"
     ]
    }
   ],
   "source": [
    "getXGBoost(X, y)"
   ]
  },
  {
   "cell_type": "code",
   "execution_count": 51,
   "metadata": {},
   "outputs": [],
   "source": [
    "cols_23 = ['Jitter (ppq5)','Shimmer (apq11)','AC', 'NDH', 'HTM',\n",
    "       'Median Pitch', 'Mean Pitch', 'Standard deviation',\n",
    "       'Minimum pitch', 'Maximum pitch', 'Number of pulses',\n",
    "       'Number of periods', 'Mean period', 'Standard deviation of period',\n",
    "       'Fraction of locally unvoiced frames', 'Number of voice breaks',\n",
    "       'Degree of voice breaks']\n",
    "X = data[cols_23]"
   ]
  },
  {
   "cell_type": "code",
   "execution_count": 52,
   "metadata": {},
   "outputs": [
    {
     "name": "stdout",
     "output_type": "stream",
     "text": [
      "Accuracy for test set -> 0.8269230769230769\n",
      "Accuracy for training set -> 0.875\n"
     ]
    }
   ],
   "source": [
    "getXGBoost(X, y)"
   ]
  },
  {
   "cell_type": "code",
   "execution_count": 53,
   "metadata": {},
   "outputs": [],
   "source": [
    "cols_24 = ['Jitter (ppq5)','Shimmer (dda)','AC', 'NDH', 'HTM',\n",
    "       'Median Pitch', 'Mean Pitch', 'Standard deviation',\n",
    "       'Minimum pitch', 'Maximum pitch', 'Number of pulses',\n",
    "       'Number of periods', 'Mean period', 'Standard deviation of period',\n",
    "       'Fraction of locally unvoiced frames', 'Number of voice breaks',\n",
    "       'Degree of voice breaks']\n",
    "X = data[cols_24]"
   ]
  },
  {
   "cell_type": "code",
   "execution_count": 54,
   "metadata": {},
   "outputs": [
    {
     "name": "stdout",
     "output_type": "stream",
     "text": [
      "Accuracy for test set -> 0.7884615384615384\n",
      "Accuracy for training set -> 0.8625\n"
     ]
    }
   ],
   "source": [
    "getXGBoost(X, y)"
   ]
  },
  {
   "cell_type": "code",
   "execution_count": 55,
   "metadata": {},
   "outputs": [],
   "source": [
    "cols_25 = ['Jitter (ddp)','Shimmer (local)','AC', 'NDH', 'HTM',\n",
    "       'Median Pitch', 'Mean Pitch', 'Standard deviation',\n",
    "       'Minimum pitch', 'Maximum pitch', 'Number of pulses',\n",
    "       'Number of periods', 'Mean period', 'Standard deviation of period',\n",
    "       'Fraction of locally unvoiced frames', 'Number of voice breaks',\n",
    "       'Degree of voice breaks']\n",
    "X = data[cols_25]\n",
    "y = data['Class information']"
   ]
  },
  {
   "cell_type": "code",
   "execution_count": 56,
   "metadata": {},
   "outputs": [
    {
     "name": "stdout",
     "output_type": "stream",
     "text": [
      "Accuracy for test set -> 0.8269230769230769\n",
      "Accuracy for training set -> 0.8673076923076923\n"
     ]
    }
   ],
   "source": [
    "getXGBoost(X, y)"
   ]
  },
  {
   "cell_type": "code",
   "execution_count": 57,
   "metadata": {},
   "outputs": [],
   "source": [
    "cols_26 = ['Jitter (ddp)','Shimmer (local, db)','AC', 'NDH', 'HTM',\n",
    "       'Median Pitch', 'Mean Pitch', 'Standard deviation',\n",
    "       'Minimum pitch', 'Maximum pitch', 'Number of pulses',\n",
    "       'Number of periods', 'Mean period', 'Standard deviation of period',\n",
    "       'Fraction of locally unvoiced frames', 'Number of voice breaks',\n",
    "       'Degree of voice breaks']\n",
    "X = data[cols_26]"
   ]
  },
  {
   "cell_type": "code",
   "execution_count": 58,
   "metadata": {},
   "outputs": [
    {
     "name": "stdout",
     "output_type": "stream",
     "text": [
      "Accuracy for test set -> 0.8461538461538461\n",
      "Accuracy for training set -> 0.8548076923076923\n"
     ]
    }
   ],
   "source": [
    "getXGBoost(X, y)"
   ]
  },
  {
   "cell_type": "code",
   "execution_count": 59,
   "metadata": {},
   "outputs": [],
   "source": [
    "cols_27 = ['Jitter (ddp)','Shimmer (apq3)','AC', 'NDH', 'HTM',\n",
    "       'Median Pitch', 'Mean Pitch', 'Standard deviation',\n",
    "       'Minimum pitch', 'Maximum pitch', 'Number of pulses',\n",
    "       'Number of periods', 'Mean period', 'Standard deviation of period',\n",
    "       'Fraction of locally unvoiced frames', 'Number of voice breaks',\n",
    "       'Degree of voice breaks']\n",
    "X = data[cols_27]"
   ]
  },
  {
   "cell_type": "code",
   "execution_count": 60,
   "metadata": {},
   "outputs": [
    {
     "name": "stdout",
     "output_type": "stream",
     "text": [
      "Accuracy for test set -> 0.7884615384615384\n",
      "Accuracy for training set -> 0.8586538461538461\n"
     ]
    }
   ],
   "source": [
    "getXGBoost(X, y)"
   ]
  },
  {
   "cell_type": "code",
   "execution_count": 61,
   "metadata": {},
   "outputs": [],
   "source": [
    "cols_28 = ['Jitter (ddp)','Shimmer (apq5)','AC', 'NDH', 'HTM',\n",
    "       'Median Pitch', 'Mean Pitch', 'Standard deviation',\n",
    "       'Minimum pitch', 'Maximum pitch', 'Number of pulses',\n",
    "       'Number of periods', 'Mean period', 'Standard deviation of period',\n",
    "       'Fraction of locally unvoiced frames', 'Number of voice breaks',\n",
    "       'Degree of voice breaks']\n",
    "X = data[cols_28]"
   ]
  },
  {
   "cell_type": "code",
   "execution_count": 62,
   "metadata": {},
   "outputs": [
    {
     "name": "stdout",
     "output_type": "stream",
     "text": [
      "Accuracy for test set -> 0.7307692307692307\n",
      "Accuracy for training set -> 0.8682692307692308\n"
     ]
    }
   ],
   "source": [
    "getXGBoost(X, y)"
   ]
  },
  {
   "cell_type": "code",
   "execution_count": 63,
   "metadata": {},
   "outputs": [],
   "source": [
    "cols_29 = ['Jitter (ddp)','Shimmer (apq11)','AC', 'NDH', 'HTM',\n",
    "       'Median Pitch', 'Mean Pitch', 'Standard deviation',\n",
    "       'Minimum pitch', 'Maximum pitch', 'Number of pulses',\n",
    "       'Number of periods', 'Mean period', 'Standard deviation of period',\n",
    "       'Fraction of locally unvoiced frames', 'Number of voice breaks',\n",
    "       'Degree of voice breaks']\n",
    "X = data[cols_29]"
   ]
  },
  {
   "cell_type": "code",
   "execution_count": 64,
   "metadata": {},
   "outputs": [
    {
     "name": "stdout",
     "output_type": "stream",
     "text": [
      "Accuracy for test set -> 0.8461538461538461\n",
      "Accuracy for training set -> 0.8653846153846154\n"
     ]
    }
   ],
   "source": [
    "getXGBoost(X, y)"
   ]
  },
  {
   "cell_type": "code",
   "execution_count": 65,
   "metadata": {},
   "outputs": [],
   "source": [
    "cols_30 = ['Jitter (ddp)','Shimmer (dda)','AC', 'NDH', 'HTM',\n",
    "       'Median Pitch', 'Mean Pitch', 'Standard deviation',\n",
    "       'Minimum pitch', 'Maximum pitch', 'Number of pulses',\n",
    "       'Number of periods', 'Mean period', 'Standard deviation of period',\n",
    "       'Fraction of locally unvoiced frames', 'Number of voice breaks',\n",
    "       'Degree of voice breaks']\n",
    "X = data[cols_30]\n",
    "y = data['Class information']"
   ]
  },
  {
   "cell_type": "code",
   "execution_count": 66,
   "metadata": {},
   "outputs": [
    {
     "name": "stdout",
     "output_type": "stream",
     "text": [
      "Accuracy for test set -> 0.7884615384615384\n",
      "Accuracy for training set -> 0.8586538461538461\n"
     ]
    }
   ],
   "source": [
    "getXGBoost(X, y)"
   ]
  }
 ],
 "metadata": {
  "kernelspec": {
   "display_name": "Python 3",
   "language": "python",
   "name": "python3"
  },
  "language_info": {
   "codemirror_mode": {
    "name": "ipython",
    "version": 3
   },
   "file_extension": ".py",
   "mimetype": "text/x-python",
   "name": "python",
   "nbconvert_exporter": "python",
   "pygments_lexer": "ipython3",
   "version": "3.7.4"
  }
 },
 "nbformat": 4,
 "nbformat_minor": 4
}
